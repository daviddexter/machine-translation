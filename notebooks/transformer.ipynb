{
 "cells": [
  {
   "cell_type": "code",
   "execution_count": 37,
   "metadata": {},
   "outputs": [],
   "source": [
    "import sys\n",
    "import os\n",
    "import numpy as np\n",
    "import pandas as pd\n",
    "from igbo_text import IgboText\n",
    "from keras.optimizers import Adam\n",
    "from keras.preprocessing.text import text_to_word_sequence\n",
    "from collections import Counter\n",
    "sys.path.append(os.path.join('..'))\n",
    "import dataloader\n",
    "from transformer import transformer, extras"
   ]
  },
  {
   "cell_type": "code",
   "execution_count": 38,
   "metadata": {},
   "outputs": [],
   "source": [
    "igbo_text = IgboText()\n",
    "dataset = pd.read_csv('../data/data.csv')"
   ]
  },
  {
   "cell_type": "code",
   "execution_count": 39,
   "metadata": {},
   "outputs": [],
   "source": [
    "splitted_igbo = []\n",
    "igbo_list = []"
   ]
  },
  {
   "cell_type": "code",
   "execution_count": 40,
   "metadata": {},
   "outputs": [],
   "source": [
    "igbo_data = dataset['ig'].tolist()"
   ]
  },
  {
   "cell_type": "code",
   "execution_count": 41,
   "metadata": {},
   "outputs": [],
   "source": [
    "for text in igbo_data:\n",
    "    text = \" \".join(text_to_word_sequence(text, filters='!#$%&()*+,./:;<=>?@[\\\\]^_`{|}~\\t\\n', lower=False, split=' '))\n",
    "    if text.strip() == \"\":\n",
    "        continue\n",
    "    tokenized = igbo_text.tokenize(text, convert_to_lower=True)\n",
    "    splitted_igbo += tokenized\n",
    "    igbo_list.append(tokenized)"
   ]
  },
  {
   "cell_type": "code",
   "execution_count": 42,
   "metadata": {},
   "outputs": [],
   "source": [
    "igbo_counter = Counter(splitted_igbo)"
   ]
  },
  {
   "cell_type": "code",
   "execution_count": 43,
   "metadata": {},
   "outputs": [
    {
     "data": {
      "text/plain": [
       "18513"
      ]
     },
     "execution_count": 43,
     "metadata": {},
     "output_type": "execute_result"
    }
   ],
   "source": [
    "len(igbo_counter)"
   ]
  },
  {
   "cell_type": "code",
   "execution_count": 44,
   "metadata": {},
   "outputs": [],
   "source": [
    "english_data = dataset['en'].tolist()"
   ]
  },
  {
   "cell_type": "code",
   "execution_count": 45,
   "metadata": {},
   "outputs": [],
   "source": [
    "splitted_english = []\n",
    "english_list = []"
   ]
  },
  {
   "cell_type": "code",
   "execution_count": 46,
   "metadata": {},
   "outputs": [],
   "source": [
    "for text in english_data:\n",
    "    tokenized = text_to_word_sequence(text)\n",
    "    splitted_english += tokenized\n",
    "    english_list.append(tokenized)"
   ]
  },
  {
   "cell_type": "code",
   "execution_count": 69,
   "metadata": {},
   "outputs": [],
   "source": [
    "del english_list[11944]\n",
    "del english_list[29518]"
   ]
  },
  {
   "cell_type": "code",
   "execution_count": 47,
   "metadata": {},
   "outputs": [],
   "source": [
    "english_counter = Counter(splitted_english)"
   ]
  },
  {
   "cell_type": "code",
   "execution_count": 48,
   "metadata": {},
   "outputs": [
    {
     "data": {
      "text/plain": [
       "18245"
      ]
     },
     "execution_count": 48,
     "metadata": {},
     "output_type": "execute_result"
    }
   ],
   "source": [
    "len(english_counter)"
   ]
  },
  {
   "cell_type": "code",
   "execution_count": 49,
   "metadata": {},
   "outputs": [],
   "source": [
    "igbo_tokens = dataloader.TokenList(list(igbo_counter))\n",
    "eng_tokens = dataloader.TokenList(list(english_counter))"
   ]
  },
  {
   "cell_type": "code",
   "execution_count": 50,
   "metadata": {},
   "outputs": [
    {
     "data": {
      "text/plain": [
       "18517"
      ]
     },
     "execution_count": 50,
     "metadata": {},
     "output_type": "execute_result"
    }
   ],
   "source": [
    "igbo_tokens.length()"
   ]
  },
  {
   "cell_type": "code",
   "execution_count": 51,
   "metadata": {},
   "outputs": [
    {
     "data": {
      "text/plain": [
       "18249"
      ]
     },
     "execution_count": 51,
     "metadata": {},
     "output_type": "execute_result"
    }
   ],
   "source": [
    "eng_tokens.length()"
   ]
  },
  {
   "cell_type": "code",
   "execution_count": 55,
   "metadata": {},
   "outputs": [],
   "source": [
    "english, igbo = dataloader.make_data(english_list, igbo_list, eng_tokens, igbo_tokens)"
   ]
  },
  {
   "cell_type": "code",
   "execution_count": 63,
   "metadata": {},
   "outputs": [],
   "source": [
    "model_size = 512"
   ]
  },
  {
   "cell_type": "code",
   "execution_count": 57,
   "metadata": {},
   "outputs": [
    {
     "data": {
      "text/plain": [
       "(45163, 108)"
      ]
     },
     "execution_count": 57,
     "metadata": {},
     "output_type": "execute_result"
    }
   ],
   "source": [
    "igbo.shape"
   ]
  },
  {
   "cell_type": "code",
   "execution_count": 65,
   "metadata": {},
   "outputs": [],
   "source": [
    "trans = transformer.Transformer(eng_tokens, igbo_tokens, model_size, 2048, 6, 8)"
   ]
  },
  {
   "cell_type": "code",
   "execution_count": 66,
   "metadata": {},
   "outputs": [],
   "source": [
    "trans.compile(Adam(0.001, 0.9, 0.98, epsilon=1e-9))"
   ]
  },
  {
   "cell_type": "code",
   "execution_count": 67,
   "metadata": {},
   "outputs": [
    {
     "name": "stdout",
     "output_type": "stream",
     "text": [
      "__________________________________________________________________________________________________\n",
      "Layer (type)                    Output Shape         Param #     Connected to                     \n",
      "==================================================================================================\n",
      "input_1 (InputLayer)            (None, None)         0                                            \n",
      "__________________________________________________________________________________________________\n",
      "embeddings_1 (Embeddings)       (None, None, 512)    9343488     input_1[0][0]                    \n",
      "__________________________________________________________________________________________________\n",
      "position_encoding_1 (PositionEn (None, None, 512)    0           embeddings_1[0][0]               \n",
      "__________________________________________________________________________________________________\n",
      "dropout_1 (Dropout)             (None, None, 512)    0           position_encoding_1[0][0]        \n",
      "__________________________________________________________________________________________________\n",
      "layer_normalization_1 (LayerNor (None, None, 512)    1024        dropout_1[0][0]                  \n",
      "__________________________________________________________________________________________________\n",
      "masking_1 (Masking)             (None, 1, 1, None)   0           input_1[0][0]                    \n",
      "                                                                 input_1[0][0]                    \n",
      "__________________________________________________________________________________________________\n",
      "encoder_attention_1 (MultiHeadS (None, None, 512)    1048576     layer_normalization_1[0][0]      \n",
      "                                                                 masking_1[0][0]                  \n",
      "__________________________________________________________________________________________________\n",
      "dropout_2 (Dropout)             (None, None, 512)    0           encoder_attention_1[0][0]        \n",
      "__________________________________________________________________________________________________\n",
      "add_1 (Add)                     (None, None, 512)    0           dropout_1[0][0]                  \n",
      "                                                                 dropout_2[0][0]                  \n",
      "__________________________________________________________________________________________________\n",
      "layer_normalization_2 (LayerNor (None, None, 512)    1024        add_1[0][0]                      \n",
      "__________________________________________________________________________________________________\n",
      "padding_1 (Padding)             (None, None)         0           input_1[0][0]                    \n",
      "__________________________________________________________________________________________________\n",
      "encoder_ffn_1 (FeedForwardNetwo (None, None, 512)    2099712     layer_normalization_2[0][0]      \n",
      "                                                                 padding_1[0][0]                  \n",
      "__________________________________________________________________________________________________\n",
      "dropout_3 (Dropout)             (None, None, 512)    0           encoder_ffn_1[0][0]              \n",
      "__________________________________________________________________________________________________\n",
      "add_2 (Add)                     (None, None, 512)    0           add_1[0][0]                      \n",
      "                                                                 dropout_3[0][0]                  \n",
      "__________________________________________________________________________________________________\n",
      "layer_normalization_3 (LayerNor (None, None, 512)    1024        add_2[0][0]                      \n",
      "__________________________________________________________________________________________________\n",
      "encoder_attention_2 (MultiHeadS (None, None, 512)    1048576     layer_normalization_3[0][0]      \n",
      "                                                                 masking_1[0][0]                  \n",
      "__________________________________________________________________________________________________\n",
      "dropout_4 (Dropout)             (None, None, 512)    0           encoder_attention_2[0][0]        \n",
      "__________________________________________________________________________________________________\n",
      "add_3 (Add)                     (None, None, 512)    0           add_2[0][0]                      \n",
      "                                                                 dropout_4[0][0]                  \n",
      "__________________________________________________________________________________________________\n",
      "layer_normalization_4 (LayerNor (None, None, 512)    1024        add_3[0][0]                      \n",
      "__________________________________________________________________________________________________\n",
      "encoder_ffn_2 (FeedForwardNetwo (None, None, 512)    2099712     layer_normalization_4[0][0]      \n",
      "                                                                 padding_1[0][0]                  \n",
      "__________________________________________________________________________________________________\n",
      "dropout_5 (Dropout)             (None, None, 512)    0           encoder_ffn_2[0][0]              \n",
      "__________________________________________________________________________________________________\n",
      "add_4 (Add)                     (None, None, 512)    0           add_3[0][0]                      \n",
      "                                                                 dropout_5[0][0]                  \n",
      "__________________________________________________________________________________________________\n",
      "layer_normalization_5 (LayerNor (None, None, 512)    1024        add_4[0][0]                      \n",
      "__________________________________________________________________________________________________\n",
      "encoder_attention_3 (MultiHeadS (None, None, 512)    1048576     layer_normalization_5[0][0]      \n",
      "                                                                 masking_1[0][0]                  \n",
      "__________________________________________________________________________________________________\n",
      "dropout_6 (Dropout)             (None, None, 512)    0           encoder_attention_3[0][0]        \n",
      "__________________________________________________________________________________________________\n",
      "add_5 (Add)                     (None, None, 512)    0           add_4[0][0]                      \n",
      "                                                                 dropout_6[0][0]                  \n",
      "__________________________________________________________________________________________________\n",
      "layer_normalization_6 (LayerNor (None, None, 512)    1024        add_5[0][0]                      \n",
      "__________________________________________________________________________________________________\n",
      "encoder_ffn_3 (FeedForwardNetwo (None, None, 512)    2099712     layer_normalization_6[0][0]      \n",
      "                                                                 padding_1[0][0]                  \n",
      "__________________________________________________________________________________________________\n",
      "dropout_7 (Dropout)             (None, None, 512)    0           encoder_ffn_3[0][0]              \n",
      "__________________________________________________________________________________________________\n",
      "input_2 (InputLayer)            (None, None)         0                                            \n",
      "__________________________________________________________________________________________________\n",
      "add_6 (Add)                     (None, None, 512)    0           add_5[0][0]                      \n",
      "                                                                 dropout_7[0][0]                  \n",
      "__________________________________________________________________________________________________\n",
      "lambda_2 (Lambda)               (None, None)         0           input_2[0][0]                    \n",
      "__________________________________________________________________________________________________\n",
      "layer_normalization_7 (LayerNor (None, None, 512)    1024        add_6[0][0]                      \n",
      "__________________________________________________________________________________________________\n",
      "embeddings_2 (Embeddings)       (None, None, 512)    9480704     lambda_2[0][0]                   \n",
      "__________________________________________________________________________________________________\n",
      "encoder_attention_4 (MultiHeadS (None, None, 512)    1048576     layer_normalization_7[0][0]      \n",
      "                                                                 masking_1[0][0]                  \n",
      "__________________________________________________________________________________________________\n",
      "position_encoding_2 (PositionEn (None, None, 512)    0           embeddings_2[0][0]               \n",
      "__________________________________________________________________________________________________\n",
      "dropout_8 (Dropout)             (None, None, 512)    0           encoder_attention_4[0][0]        \n",
      "__________________________________________________________________________________________________\n",
      "dropout_10 (Dropout)            (None, None, 512)    0           position_encoding_2[0][0]        \n",
      "__________________________________________________________________________________________________\n",
      "add_7 (Add)                     (None, None, 512)    0           add_6[0][0]                      \n",
      "                                                                 dropout_8[0][0]                  \n",
      "__________________________________________________________________________________________________\n",
      "layer_normalization_9 (LayerNor (None, None, 512)    1024        dropout_10[0][0]                 \n",
      "__________________________________________________________________________________________________\n",
      "masking_2 (Masking)             (1, 1, None, None)   0           lambda_2[0][0]                   \n",
      "__________________________________________________________________________________________________\n",
      "layer_normalization_8 (LayerNor (None, None, 512)    1024        add_7[0][0]                      \n",
      "__________________________________________________________________________________________________\n",
      "decoder_attention_1 (MultiHeadS (None, None, 512)    1048576     layer_normalization_9[0][0]      \n",
      "                                                                 masking_2[0][0]                  \n",
      "__________________________________________________________________________________________________\n",
      "encoder_ffn_4 (FeedForwardNetwo (None, None, 512)    2099712     layer_normalization_8[0][0]      \n",
      "                                                                 padding_1[0][0]                  \n",
      "__________________________________________________________________________________________________\n",
      "dropout_11 (Dropout)            (None, None, 512)    0           decoder_attention_1[0][0]        \n",
      "__________________________________________________________________________________________________\n",
      "dropout_9 (Dropout)             (None, None, 512)    0           encoder_ffn_4[0][0]              \n",
      "__________________________________________________________________________________________________\n",
      "add_9 (Add)                     (None, None, 512)    0           dropout_10[0][0]                 \n",
      "                                                                 dropout_11[0][0]                 \n",
      "__________________________________________________________________________________________________\n",
      "add_8 (Add)                     (None, None, 512)    0           add_7[0][0]                      \n",
      "                                                                 dropout_9[0][0]                  \n",
      "__________________________________________________________________________________________________\n",
      "layer_normalization_10 (LayerNo (None, None, 512)    1024        add_9[0][0]                      \n",
      "__________________________________________________________________________________________________\n",
      "encoder (LayerNormalization)    (None, None, 512)    1024        add_8[0][0]                      \n",
      "__________________________________________________________________________________________________\n",
      "enc_dec_attention_1 (MultiHeadA (None, None, 512)    1048576     layer_normalization_10[0][0]     \n",
      "                                                                 encoder[0][0]                    \n",
      "                                                                 masking_1[1][0]                  \n",
      "__________________________________________________________________________________________________\n",
      "dropout_12 (Dropout)            (None, None, 512)    0           enc_dec_attention_1[0][0]        \n",
      "__________________________________________________________________________________________________\n",
      "add_10 (Add)                    (None, None, 512)    0           add_9[0][0]                      \n",
      "                                                                 dropout_12[0][0]                 \n",
      "__________________________________________________________________________________________________\n",
      "layer_normalization_11 (LayerNo (None, None, 512)    1024        add_10[0][0]                     \n",
      "__________________________________________________________________________________________________\n",
      "decoder_ffn_1 (FeedForwardNetwo (None, None, 512)    2099712     layer_normalization_11[0][0]     \n",
      "__________________________________________________________________________________________________\n",
      "dropout_13 (Dropout)            (None, None, 512)    0           decoder_ffn_1[0][0]              \n",
      "__________________________________________________________________________________________________\n",
      "add_11 (Add)                    (None, None, 512)    0           add_10[0][0]                     \n",
      "                                                                 dropout_13[0][0]                 \n",
      "__________________________________________________________________________________________________\n",
      "layer_normalization_12 (LayerNo (None, None, 512)    1024        add_11[0][0]                     \n",
      "__________________________________________________________________________________________________\n",
      "decoder_attention_2 (MultiHeadS (None, None, 512)    1048576     layer_normalization_12[0][0]     \n",
      "                                                                 masking_2[0][0]                  \n",
      "__________________________________________________________________________________________________\n",
      "dropout_14 (Dropout)            (None, None, 512)    0           decoder_attention_2[0][0]        \n",
      "__________________________________________________________________________________________________\n",
      "add_12 (Add)                    (None, None, 512)    0           add_11[0][0]                     \n",
      "                                                                 dropout_14[0][0]                 \n",
      "__________________________________________________________________________________________________\n",
      "layer_normalization_13 (LayerNo (None, None, 512)    1024        add_12[0][0]                     \n",
      "__________________________________________________________________________________________________\n",
      "enc_dec_attention_2 (MultiHeadA (None, None, 512)    1048576     layer_normalization_13[0][0]     \n",
      "                                                                 encoder[0][0]                    \n",
      "                                                                 masking_1[1][0]                  \n",
      "__________________________________________________________________________________________________\n",
      "dropout_15 (Dropout)            (None, None, 512)    0           enc_dec_attention_2[0][0]        \n",
      "__________________________________________________________________________________________________\n",
      "add_13 (Add)                    (None, None, 512)    0           add_12[0][0]                     \n",
      "                                                                 dropout_15[0][0]                 \n",
      "__________________________________________________________________________________________________\n",
      "layer_normalization_14 (LayerNo (None, None, 512)    1024        add_13[0][0]                     \n",
      "__________________________________________________________________________________________________\n",
      "decoder_ffn_2 (FeedForwardNetwo (None, None, 512)    2099712     layer_normalization_14[0][0]     \n",
      "__________________________________________________________________________________________________\n",
      "dropout_16 (Dropout)            (None, None, 512)    0           decoder_ffn_2[0][0]              \n",
      "__________________________________________________________________________________________________\n",
      "add_14 (Add)                    (None, None, 512)    0           add_13[0][0]                     \n",
      "                                                                 dropout_16[0][0]                 \n",
      "__________________________________________________________________________________________________\n",
      "layer_normalization_15 (LayerNo (None, None, 512)    1024        add_14[0][0]                     \n",
      "__________________________________________________________________________________________________\n",
      "decoder_attention_3 (MultiHeadS (None, None, 512)    1048576     layer_normalization_15[0][0]     \n",
      "                                                                 masking_2[0][0]                  \n",
      "__________________________________________________________________________________________________\n",
      "dropout_17 (Dropout)            (None, None, 512)    0           decoder_attention_3[0][0]        \n",
      "__________________________________________________________________________________________________\n",
      "add_15 (Add)                    (None, None, 512)    0           add_14[0][0]                     \n",
      "                                                                 dropout_17[0][0]                 \n",
      "__________________________________________________________________________________________________\n",
      "layer_normalization_16 (LayerNo (None, None, 512)    1024        add_15[0][0]                     \n",
      "__________________________________________________________________________________________________\n",
      "enc_dec_attention_3 (MultiHeadA (None, None, 512)    1048576     layer_normalization_16[0][0]     \n",
      "                                                                 encoder[0][0]                    \n",
      "                                                                 masking_1[1][0]                  \n",
      "__________________________________________________________________________________________________\n",
      "dropout_18 (Dropout)            (None, None, 512)    0           enc_dec_attention_3[0][0]        \n",
      "__________________________________________________________________________________________________\n",
      "add_16 (Add)                    (None, None, 512)    0           add_15[0][0]                     \n",
      "                                                                 dropout_18[0][0]                 \n",
      "__________________________________________________________________________________________________\n",
      "layer_normalization_17 (LayerNo (None, None, 512)    1024        add_16[0][0]                     \n",
      "__________________________________________________________________________________________________\n",
      "decoder_ffn_3 (FeedForwardNetwo (None, None, 512)    2099712     layer_normalization_17[0][0]     \n",
      "__________________________________________________________________________________________________\n",
      "dropout_19 (Dropout)            (None, None, 512)    0           decoder_ffn_3[0][0]              \n",
      "__________________________________________________________________________________________________\n",
      "add_17 (Add)                    (None, None, 512)    0           add_16[0][0]                     \n",
      "                                                                 dropout_19[0][0]                 \n",
      "__________________________________________________________________________________________________\n",
      "layer_normalization_18 (LayerNo (None, None, 512)    1024        add_17[0][0]                     \n",
      "__________________________________________________________________________________________________\n",
      "decoder_attention_4 (MultiHeadS (None, None, 512)    1048576     layer_normalization_18[0][0]     \n",
      "                                                                 masking_2[0][0]                  \n",
      "__________________________________________________________________________________________________\n",
      "dropout_20 (Dropout)            (None, None, 512)    0           decoder_attention_4[0][0]        \n",
      "__________________________________________________________________________________________________\n",
      "add_18 (Add)                    (None, None, 512)    0           add_17[0][0]                     \n",
      "                                                                 dropout_20[0][0]                 \n",
      "__________________________________________________________________________________________________\n",
      "layer_normalization_19 (LayerNo (None, None, 512)    1024        add_18[0][0]                     \n",
      "__________________________________________________________________________________________________\n",
      "enc_dec_attention_4 (MultiHeadA (None, None, 512)    1048576     layer_normalization_19[0][0]     \n",
      "                                                                 encoder[0][0]                    \n",
      "                                                                 masking_1[1][0]                  \n",
      "__________________________________________________________________________________________________\n",
      "dropout_21 (Dropout)            (None, None, 512)    0           enc_dec_attention_4[0][0]        \n",
      "__________________________________________________________________________________________________\n",
      "add_19 (Add)                    (None, None, 512)    0           add_18[0][0]                     \n",
      "                                                                 dropout_21[0][0]                 \n",
      "__________________________________________________________________________________________________\n",
      "layer_normalization_20 (LayerNo (None, None, 512)    1024        add_19[0][0]                     \n",
      "__________________________________________________________________________________________________\n",
      "decoder_ffn_4 (FeedForwardNetwo (None, None, 512)    2099712     layer_normalization_20[0][0]     \n",
      "__________________________________________________________________________________________________\n",
      "dropout_22 (Dropout)            (None, None, 512)    0           decoder_ffn_4[0][0]              \n",
      "__________________________________________________________________________________________________\n",
      "add_20 (Add)                    (None, None, 512)    0           add_19[0][0]                     \n",
      "                                                                 dropout_22[0][0]                 \n",
      "__________________________________________________________________________________________________\n",
      "decoder_norm (LayerNormalizatio (None, None, 512)    1024        add_20[0][0]                     \n",
      "__________________________________________________________________________________________________\n",
      "time_distributed_1 (TimeDistrib (None, None, 18517)  9499221     decoder_norm[0][0]               \n",
      "__________________________________________________________________________________________________\n",
      "lambda_1 (Lambda)               (None, None)         0           input_2[0][0]                    \n",
      "__________________________________________________________________________________________________\n",
      "loss (Lambda)                   ()                   0           time_distributed_1[0][0]         \n",
      "                                                                 lambda_1[0][0]                   \n",
      "==================================================================================================\n",
      "Total params: 57,726,549\n",
      "Trainable params: 57,726,549\n",
      "Non-trainable params: 0\n",
      "__________________________________________________________________________________________________\n"
     ]
    }
   ],
   "source": [
    "trans.model.summary()"
   ]
  },
  {
   "cell_type": "code",
   "execution_count": 68,
   "metadata": {},
   "outputs": [],
   "source": [
    "lr_scheduler = extras.LRSchedulerPerStep(model_size, 4000)"
   ]
  },
  {
   "cell_type": "code",
   "execution_count": null,
   "metadata": {},
   "outputs": [],
   "source": [
    "trans.model.fit([english, igbo], None, batch_size=64, epochs=50, callbacks=[lr_scheduler])"
   ]
  },
  {
   "cell_type": "code",
   "execution_count": null,
   "metadata": {},
   "outputs": [],
   "source": [
    "sentence = \"Let it go\"\n",
    "decoded = trans.decode_sequence(sentence, len_limit=len(sentence) + 30)"
   ]
  },
  {
   "cell_type": "code",
   "execution_count": null,
   "metadata": {},
   "outputs": [],
   "source": [
    "print(decoded)"
   ]
  }
 ],
 "metadata": {
  "kernelspec": {
   "display_name": "Python 3",
   "language": "python",
   "name": "python3"
  },
  "language_info": {
   "codemirror_mode": {
    "name": "ipython",
    "version": 3
   },
   "file_extension": ".py",
   "mimetype": "text/x-python",
   "name": "python",
   "nbconvert_exporter": "python",
   "pygments_lexer": "ipython3",
   "version": "3.6.5"
  }
 },
 "nbformat": 4,
 "nbformat_minor": 2
}
