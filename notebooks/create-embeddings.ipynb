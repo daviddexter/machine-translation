{
 "cells": [
  {
   "cell_type": "code",
   "execution_count": 1,
   "metadata": {},
   "outputs": [],
   "source": [
    "import pandas as pd\n",
    "import numpy as np\n",
    "import fasttext"
   ]
  },
  {
   "cell_type": "code",
   "execution_count": 11,
   "metadata": {},
   "outputs": [
    {
     "name": "stdout",
     "output_type": "stream",
     "text": [
      "[[16  1 16  5 23 25  1 13 23 18]\n",
      " [21 19 17  8 27  8 23 15  7 13]\n",
      " [ 1 17 26 23 23 29 18  9  7 19]\n",
      " [14 19  9 25 14  3  1 28  1  7]\n",
      " [ 5  1  4 23 20 27 11  5  5 14]\n",
      " [18 13 15 25 11 17 23 27  1 19]\n",
      " [23 19 18  9 12 14 29 29 13 16]\n",
      " [ 6  1 26 22 17 16  4  5 19 13]\n",
      " [ 2  6  6 10 16 12  3 11 14  9]\n",
      " [ 9  7 12 25 16  4 26  2 29 24]\n",
      " [17 16 15  5 14 23 28 17 21 23]\n",
      " [15 14 11 12 29 11 10 26 28 17]\n",
      " [ 5 18 28 24 27 17 10 12 28 19]\n",
      " [18 25 21 14 13 29  1 17 15 29]\n",
      " [21  9 28  8 12 19 17 24 28 21]\n",
      " [ 4 11  4 25 12 15 15 26  3 17]\n",
      " [ 3 25 11 12 28  7 24 24 28 24]\n",
      " [ 7 29  8 25 11  8 15  9  6 23]\n",
      " [11  2  9 13 13  7 13 11  6  2]\n",
      " [23  6 28 21  2 29  9 10 20  3]]\n",
      "[[ 1  1 16  5 23 25  1 13 23 18]\n",
      " [ 1 19 17  8 27  8 23 15  7 13]\n",
      " [ 1 17 26 23 23 29 18  9  7 19]\n",
      " [ 1 19  9 25 14  3  1 28  1  7]\n",
      " [ 1  1  4 23 20 27 11  5  5 14]\n",
      " [ 1 13 15 25 11 17 23 27  1 19]\n",
      " [ 1 19 18  9 12 14 29 29 13 16]\n",
      " [ 1  1 26 22 17 16  4  5 19 13]\n",
      " [ 1  6  6 10 16 12  3 11 14  9]\n",
      " [ 1  7 12 25 16  4 26  2 29 24]\n",
      " [ 1 16 15  5 14 23 28 17 21 23]\n",
      " [ 1 14 11 12 29 11 10 26 28 17]\n",
      " [ 1 18 28 24 27 17 10 12 28 19]\n",
      " [ 1 25 21 14 13 29  1 17 15 29]\n",
      " [ 1  9 28  8 12 19 17 24 28 21]\n",
      " [ 1 11  4 25 12 15 15 26  3 17]\n",
      " [ 1 25 11 12 28  7 24 24 28 24]\n",
      " [ 1 29  8 25 11  8 15  9  6 23]\n",
      " [ 1  2  9 13 13  7 13 11  6  2]\n",
      " [ 1  6 28 21  2 29  9 10 20  3]]\n"
     ]
    }
   ],
   "source": [
    "data = np.random.randint(1, 30, size=(20, 10))\n",
    "print(data)\n",
    "data[:, 0] = 1\n",
    "print(data)"
   ]
  },
  {
   "cell_type": "code",
   "execution_count": 7,
   "metadata": {},
   "outputs": [],
   "source": [
    "dataset = pd.read_csv('../data/data.csv')"
   ]
  },
  {
   "cell_type": "code",
   "execution_count": 4,
   "metadata": {},
   "outputs": [],
   "source": [
    "def transform_text(text):\n",
    "    return text.lower()"
   ]
  },
  {
   "cell_type": "code",
   "execution_count": 5,
   "metadata": {},
   "outputs": [],
   "source": [
    "text = dataset['en'].apply(transform_text)"
   ]
  },
  {
   "cell_type": "code",
   "execution_count": 7,
   "metadata": {},
   "outputs": [
    {
     "data": {
      "text/plain": [
       "0                                             into two\n",
       "1    11 like a dog that returns to its vomit, the s...\n",
       "2                                                 rush\n",
       "3    4 so his father-in-law, the young woman’s fath...\n",
       "4                                     trap for animals\n",
       "Name: en, dtype: object"
      ]
     },
     "execution_count": 7,
     "metadata": {},
     "output_type": "execute_result"
    }
   ],
   "source": [
    "text.head()"
   ]
  },
  {
   "cell_type": "code",
   "execution_count": 8,
   "metadata": {},
   "outputs": [],
   "source": [
    "documents = text.tolist()\n",
    "sentences = \"\\n\".join(documents)"
   ]
  },
  {
   "cell_type": "code",
   "execution_count": 9,
   "metadata": {},
   "outputs": [],
   "source": [
    "with open('engtext.txt', 'w', encoding='utf-8') as f:\n",
    "    f.write(sentences)"
   ]
  },
  {
   "cell_type": "code",
   "execution_count": 10,
   "metadata": {},
   "outputs": [],
   "source": [
    "model = fasttext.skipgram('engtext.txt', '../embeddings/eng-embeddings', dim=256)"
   ]
  },
  {
   "cell_type": "code",
   "execution_count": null,
   "metadata": {},
   "outputs": [],
   "source": []
  }
 ],
 "metadata": {
  "kernelspec": {
   "display_name": "Python 3",
   "language": "python",
   "name": "python3"
  },
  "language_info": {
   "codemirror_mode": {
    "name": "ipython",
    "version": 3
   },
   "file_extension": ".py",
   "mimetype": "text/x-python",
   "name": "python",
   "nbconvert_exporter": "python",
   "pygments_lexer": "ipython3",
   "version": "3.6.5"
  }
 },
 "nbformat": 4,
 "nbformat_minor": 2
}
