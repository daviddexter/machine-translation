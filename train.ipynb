{
 "cells": [
  {
   "cell_type": "code",
   "execution_count": 10,
   "metadata": {},
   "outputs": [],
   "source": [
    "import pandas as pd\n",
    "from models.utils import get_all_characters, get_vocab, preprocess_data"
   ]
  },
  {
   "cell_type": "code",
   "execution_count": 2,
   "metadata": {},
   "outputs": [],
   "source": [
    "dataset = pd.read_csv('./data/data.csv')"
   ]
  },
  {
   "cell_type": "code",
   "execution_count": 3,
   "metadata": {},
   "outputs": [
    {
     "data": {
      "text/html": [
       "<div>\n",
       "<style scoped>\n",
       "    .dataframe tbody tr th:only-of-type {\n",
       "        vertical-align: middle;\n",
       "    }\n",
       "\n",
       "    .dataframe tbody tr th {\n",
       "        vertical-align: top;\n",
       "    }\n",
       "\n",
       "    .dataframe thead th {\n",
       "        text-align: right;\n",
       "    }\n",
       "</style>\n",
       "<table border=\"1\" class=\"dataframe\">\n",
       "  <thead>\n",
       "    <tr style=\"text-align: right;\">\n",
       "      <th></th>\n",
       "      <th>Unnamed: 0</th>\n",
       "      <th>en</th>\n",
       "      <th>ig</th>\n",
       "    </tr>\n",
       "  </thead>\n",
       "  <tbody>\n",
       "    <tr>\n",
       "      <th>0</th>\n",
       "      <td>0</td>\n",
       "      <td>into two</td>\n",
       "      <td>yiwa</td>\n",
       "    </tr>\n",
       "    <tr>\n",
       "      <th>1</th>\n",
       "      <td>1</td>\n",
       "      <td>11 Like a dog that returns to its vomit, The s...</td>\n",
       "      <td>11 Dị nnọọ ka nkịta nke na-alaghachi n’agbọ ọ ...</td>\n",
       "    </tr>\n",
       "    <tr>\n",
       "      <th>2</th>\n",
       "      <td>2</td>\n",
       "      <td>rush</td>\n",
       "      <td>kpọwa</td>\n",
       "    </tr>\n",
       "    <tr>\n",
       "      <th>3</th>\n",
       "      <td>3</td>\n",
       "      <td>4 So his father-in-law, the young woman’s fath...</td>\n",
       "      <td>4 Ọgọ nwoke ahụ, bụ́ nna nwa agbọghọ ahụ, ekwe...</td>\n",
       "    </tr>\n",
       "    <tr>\n",
       "      <th>4</th>\n",
       "      <td>4</td>\n",
       "      <td>trap for animals</td>\n",
       "      <td>igbụdụ</td>\n",
       "    </tr>\n",
       "    <tr>\n",
       "      <th>5</th>\n",
       "      <td>5</td>\n",
       "      <td>16 A day of the horn and of the battle cry, Ag...</td>\n",
       "      <td>16 ụbọchị ụda opi na nke iti mkpu agha, megide...</td>\n",
       "    </tr>\n",
       "    <tr>\n",
       "      <th>6</th>\n",
       "      <td>6</td>\n",
       "      <td>15 After all these things, Abʹsa·lom acquired ...</td>\n",
       "      <td>15 O wee ruo mgbe ihe ndị ahụ gasịrị na Absalọ...</td>\n",
       "    </tr>\n",
       "    <tr>\n",
       "      <th>7</th>\n",
       "      <td>7</td>\n",
       "      <td>cat</td>\n",
       "      <td>bụusụ</td>\n",
       "    </tr>\n",
       "    <tr>\n",
       "      <th>8</th>\n",
       "      <td>8</td>\n",
       "      <td>Rhynchophorus phoenicis</td>\n",
       "      <td>akpa nkwu</td>\n",
       "    </tr>\n",
       "    <tr>\n",
       "      <th>9</th>\n",
       "      <td>9</td>\n",
       "      <td>7 The length of time that David lived in the c...</td>\n",
       "      <td>7 Ụbọchị niile Devid biri n’ime ime obodo ndị ...</td>\n",
       "    </tr>\n",
       "  </tbody>\n",
       "</table>\n",
       "</div>"
      ],
      "text/plain": [
       "   Unnamed: 0                                                 en  \\\n",
       "0           0                                           into two   \n",
       "1           1  11 Like a dog that returns to its vomit, The s...   \n",
       "2           2                                               rush   \n",
       "3           3  4 So his father-in-law, the young woman’s fath...   \n",
       "4           4                                   trap for animals   \n",
       "5           5  16 A day of the horn and of the battle cry, Ag...   \n",
       "6           6  15 After all these things, Abʹsa·lom acquired ...   \n",
       "7           7                                                cat   \n",
       "8           8                            Rhynchophorus phoenicis   \n",
       "9           9  7 The length of time that David lived in the c...   \n",
       "\n",
       "                                                  ig  \n",
       "0                                               yiwa  \n",
       "1  11 Dị nnọọ ka nkịta nke na-alaghachi n’agbọ ọ ...  \n",
       "2                                              kpọwa  \n",
       "3  4 Ọgọ nwoke ahụ, bụ́ nna nwa agbọghọ ahụ, ekwe...  \n",
       "4                                             igbụdụ  \n",
       "5  16 ụbọchị ụda opi na nke iti mkpu agha, megide...  \n",
       "6  15 O wee ruo mgbe ihe ndị ahụ gasịrị na Absalọ...  \n",
       "7                                              bụusụ  \n",
       "8                                          akpa nkwu  \n",
       "9  7 Ụbọchị niile Devid biri n’ime ime obodo ndị ...  "
      ]
     },
     "execution_count": 3,
     "metadata": {},
     "output_type": "execute_result"
    }
   ],
   "source": [
    "dataset.head(10)"
   ]
  },
  {
   "cell_type": "code",
   "execution_count": 4,
   "metadata": {},
   "outputs": [],
   "source": [
    "english_texts = dataset['en'].tolist()\n",
    "igbo_texts = dataset['ig'].tolist()"
   ]
  },
  {
   "cell_type": "code",
   "execution_count": 5,
   "metadata": {},
   "outputs": [],
   "source": [
    "english_characters = get_all_characters(english_texts)\n",
    "igbo_characters = get_all_characters(igbo_texts)"
   ]
  },
  {
   "cell_type": "code",
   "execution_count": 6,
   "metadata": {},
   "outputs": [],
   "source": [
    "num_english_tokens = len(english_characters)\n",
    "num_igbo_tokens = len(igbo_characters)\n",
    "max_igbo_seq_len = max([len(txt) for txt in igbo_texts])\n",
    "max_eng_seq_len = max([len(txt) for txt in english_texts])"
   ]
  },
  {
   "cell_type": "code",
   "execution_count": 7,
   "metadata": {},
   "outputs": [
    {
     "name": "stdout",
     "output_type": "stream",
     "text": [
      "Number of input 45165\n",
      "Number of unique igbo characters 117\n",
      "Number of unique english characters 96\n",
      "Maximum igbo word length 458\n",
      "Maximum english word length 454\n"
     ]
    }
   ],
   "source": [
    "print(\"Number of input\", len(english_texts))\n",
    "print(\"Number of unique igbo characters\", num_igbo_tokens)\n",
    "print(\"Number of unique english characters\", num_english_tokens)\n",
    "print(\"Maximum igbo word length\", max_igbo_seq_len)\n",
    "print(\"Maximum english word length\", max_eng_seq_len)"
   ]
  },
  {
   "cell_type": "code",
   "execution_count": 8,
   "metadata": {},
   "outputs": [],
   "source": [
    "igbo_vocab = get_vocab(igbo_characters)\n",
    "english_vocab = get_vocab(english_characters)"
   ]
  },
  {
   "cell_type": "code",
   "execution_count": 9,
   "metadata": {},
   "outputs": [],
   "source": [
    "num_english_tokens = len(english_characters)\n",
    "num_igbo_tokens = len(igbo_characters)"
   ]
  },
  {
   "cell_type": "code",
   "execution_count": 11,
   "metadata": {},
   "outputs": [
    {
     "ename": "TypeError",
     "evalue": "iteration over a 0-d array",
     "output_type": "error",
     "traceback": [
      "\u001b[1;31m---------------------------------------------------------------------------\u001b[0m",
      "\u001b[1;31mTypeError\u001b[0m                                 Traceback (most recent call last)",
      "\u001b[1;32m<ipython-input-11-e5812952b927>\u001b[0m in \u001b[0;36m<module>\u001b[1;34m()\u001b[0m\n\u001b[1;32m----> 1\u001b[1;33m \u001b[0menglish\u001b[0m\u001b[1;33m,\u001b[0m \u001b[0menglish_oh\u001b[0m \u001b[1;33m=\u001b[0m \u001b[0mpreprocess_data\u001b[0m\u001b[1;33m(\u001b[0m\u001b[0menglish_texts\u001b[0m\u001b[1;33m,\u001b[0m \u001b[0menglish_vocab\u001b[0m\u001b[1;33m,\u001b[0m \u001b[0mmax_eng_seq_len\u001b[0m\u001b[1;33m)\u001b[0m\u001b[1;33m\u001b[0m\u001b[0m\n\u001b[0m\u001b[0;32m      2\u001b[0m \u001b[0migbo\u001b[0m\u001b[1;33m,\u001b[0m \u001b[0migbo_oh\u001b[0m \u001b[1;33m=\u001b[0m \u001b[0mpreprocess_data\u001b[0m\u001b[1;33m(\u001b[0m\u001b[0migbo_texts\u001b[0m\u001b[1;33m,\u001b[0m \u001b[0migbo_vocab\u001b[0m\u001b[1;33m,\u001b[0m \u001b[0mmax_igbo_seq_len\u001b[0m\u001b[1;33m)\u001b[0m\u001b[1;33m\u001b[0m\u001b[0m\n",
      "\u001b[1;32m~\\Documents\\DL Projects\\machine-translation\\models\\utils.py\u001b[0m in \u001b[0;36mpreprocess_data\u001b[1;34m(data, vocab, length)\u001b[0m\n\u001b[0;32m     31\u001b[0m \u001b[1;32mdef\u001b[0m \u001b[0mpreprocess_data\u001b[0m\u001b[1;33m(\u001b[0m\u001b[0mdata\u001b[0m\u001b[1;33m,\u001b[0m \u001b[0mvocab\u001b[0m\u001b[1;33m,\u001b[0m \u001b[0mlength\u001b[0m\u001b[1;33m)\u001b[0m\u001b[1;33m:\u001b[0m\u001b[1;33m\u001b[0m\u001b[0m\n\u001b[0;32m     32\u001b[0m     \u001b[0mdata\u001b[0m \u001b[1;33m=\u001b[0m \u001b[0mnp\u001b[0m\u001b[1;33m.\u001b[0m\u001b[0marray\u001b[0m\u001b[1;33m(\u001b[0m\u001b[1;33m[\u001b[0m\u001b[0mstring_to_int\u001b[0m\u001b[1;33m(\u001b[0m\u001b[0mi\u001b[0m\u001b[1;33m,\u001b[0m \u001b[0mvocab\u001b[0m\u001b[1;33m,\u001b[0m \u001b[0mlength\u001b[0m\u001b[1;33m)\u001b[0m\u001b[1;33m]\u001b[0m \u001b[1;32mfor\u001b[0m \u001b[0mi\u001b[0m \u001b[1;32min\u001b[0m \u001b[0mdata\u001b[0m\u001b[1;33m)\u001b[0m\u001b[1;33m\u001b[0m\u001b[0m\n\u001b[1;32m---> 33\u001b[1;33m     \u001b[0mone_hot_encode\u001b[0m \u001b[1;33m=\u001b[0m \u001b[0mnp\u001b[0m\u001b[1;33m.\u001b[0m\u001b[0marray\u001b[0m\u001b[1;33m(\u001b[0m\u001b[0mlist\u001b[0m\u001b[1;33m(\u001b[0m\u001b[0mmap\u001b[0m\u001b[1;33m(\u001b[0m\u001b[1;32mlambda\u001b[0m \u001b[0mi\u001b[0m\u001b[1;33m:\u001b[0m \u001b[0mto_categorical\u001b[0m\u001b[1;33m(\u001b[0m\u001b[0mi\u001b[0m\u001b[1;33m,\u001b[0m \u001b[0mnum_classes\u001b[0m\u001b[1;33m=\u001b[0m\u001b[0mlen\u001b[0m\u001b[1;33m(\u001b[0m\u001b[0mvocab\u001b[0m\u001b[1;33m)\u001b[0m\u001b[1;33m)\u001b[0m\u001b[1;33m,\u001b[0m \u001b[0mdata\u001b[0m\u001b[1;33m)\u001b[0m\u001b[1;33m)\u001b[0m\u001b[1;33m)\u001b[0m\u001b[1;33m\u001b[0m\u001b[0m\n\u001b[0m\u001b[0;32m     34\u001b[0m     \u001b[1;32mreturn\u001b[0m \u001b[0mdata\u001b[0m\u001b[1;33m,\u001b[0m \u001b[0mone_hot_encode\u001b[0m\u001b[1;33m\u001b[0m\u001b[0m\n",
      "\u001b[1;31mTypeError\u001b[0m: iteration over a 0-d array"
     ]
    }
   ],
   "source": [
    "english, english_oh = preprocess_data(english_texts, english_vocab, max_eng_seq_len)\n",
    "igbo, igbo_oh = preprocess_data(igbo_texts, igbo_vocab, max_igbo_seq_len)"
   ]
  },
  {
   "cell_type": "code",
   "execution_count": null,
   "metadata": {},
   "outputs": [],
   "source": []
  }
 ],
 "metadata": {
  "kernelspec": {
   "display_name": "Python 3",
   "language": "python",
   "name": "python3"
  },
  "language_info": {
   "codemirror_mode": {
    "name": "ipython",
    "version": 3
   },
   "file_extension": ".py",
   "mimetype": "text/x-python",
   "name": "python",
   "nbconvert_exporter": "python",
   "pygments_lexer": "ipython3",
   "version": "3.6.5"
  }
 },
 "nbformat": 4,
 "nbformat_minor": 2
}
