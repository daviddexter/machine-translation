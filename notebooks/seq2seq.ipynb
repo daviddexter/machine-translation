{
 "cells": [
  {
   "cell_type": "code",
   "execution_count": 1,
   "metadata": {},
   "outputs": [
    {
     "name": "stderr",
     "output_type": "stream",
     "text": [
      "Using TensorFlow backend.\n"
     ]
    }
   ],
   "source": [
    "import pandas as pd\n",
    "from keras.models import load_model\n",
    "import sys\n",
    "import os\n",
    "sys.path.append(os.path.join('..'))\n",
    "from models.utils import get_all_characters, get_vocab, get_inv_vocab, preprocess_input_data\n",
    "from models.utils import preprocess_target_data, clean_lines, get_short_sentences, decode_sequence\n",
    "from models.seq2seq import custom_model, encoder_model, decoder_model"
   ]
  },
  {
   "cell_type": "code",
   "execution_count": 2,
   "metadata": {},
   "outputs": [],
   "source": [
    "dataset = pd.read_csv('../data/data.csv')"
   ]
  },
  {
   "cell_type": "code",
   "execution_count": 3,
   "metadata": {},
   "outputs": [
    {
     "data": {
      "text/html": [
       "<div>\n",
       "<style scoped>\n",
       "    .dataframe tbody tr th:only-of-type {\n",
       "        vertical-align: middle;\n",
       "    }\n",
       "\n",
       "    .dataframe tbody tr th {\n",
       "        vertical-align: top;\n",
       "    }\n",
       "\n",
       "    .dataframe thead th {\n",
       "        text-align: right;\n",
       "    }\n",
       "</style>\n",
       "<table border=\"1\" class=\"dataframe\">\n",
       "  <thead>\n",
       "    <tr style=\"text-align: right;\">\n",
       "      <th></th>\n",
       "      <th>Unnamed: 0</th>\n",
       "      <th>en</th>\n",
       "      <th>ig</th>\n",
       "    </tr>\n",
       "  </thead>\n",
       "  <tbody>\n",
       "    <tr>\n",
       "      <th>0</th>\n",
       "      <td>0</td>\n",
       "      <td>into two</td>\n",
       "      <td>yiwa</td>\n",
       "    </tr>\n",
       "    <tr>\n",
       "      <th>1</th>\n",
       "      <td>1</td>\n",
       "      <td>11 Like a dog that returns to its vomit, The s...</td>\n",
       "      <td>11 Dị nnọọ ka nkịta nke na-alaghachi n’agbọ ọ ...</td>\n",
       "    </tr>\n",
       "    <tr>\n",
       "      <th>2</th>\n",
       "      <td>2</td>\n",
       "      <td>rush</td>\n",
       "      <td>kpọwa</td>\n",
       "    </tr>\n",
       "    <tr>\n",
       "      <th>3</th>\n",
       "      <td>3</td>\n",
       "      <td>4 So his father-in-law, the young woman’s fath...</td>\n",
       "      <td>4 Ọgọ nwoke ahụ, bụ́ nna nwa agbọghọ ahụ, ekwe...</td>\n",
       "    </tr>\n",
       "    <tr>\n",
       "      <th>4</th>\n",
       "      <td>4</td>\n",
       "      <td>trap for animals</td>\n",
       "      <td>igbụdụ</td>\n",
       "    </tr>\n",
       "  </tbody>\n",
       "</table>\n",
       "</div>"
      ],
      "text/plain": [
       "   Unnamed: 0                                                 en  \\\n",
       "0           0                                           into two   \n",
       "1           1  11 Like a dog that returns to its vomit, The s...   \n",
       "2           2                                               rush   \n",
       "3           3  4 So his father-in-law, the young woman’s fath...   \n",
       "4           4                                   trap for animals   \n",
       "\n",
       "                                                  ig  \n",
       "0                                               yiwa  \n",
       "1  11 Dị nnọọ ka nkịta nke na-alaghachi n’agbọ ọ ...  \n",
       "2                                              kpọwa  \n",
       "3  4 Ọgọ nwoke ahụ, bụ́ nna nwa agbọghọ ahụ, ekwe...  \n",
       "4                                             igbụdụ  "
      ]
     },
     "execution_count": 3,
     "metadata": {},
     "output_type": "execute_result"
    }
   ],
   "source": [
    "dataset.head()"
   ]
  },
  {
   "cell_type": "markdown",
   "metadata": {},
   "source": [
    "Because of performance constraint, I will only use those sentences that are below a certain size"
   ]
  },
  {
   "cell_type": "code",
   "execution_count": 4,
   "metadata": {},
   "outputs": [],
   "source": [
    "Tx = 100\n",
    "Ty = 120\n",
    "english_texts, igbo_texts = get_short_sentences(dataset, Tx, Ty)"
   ]
  },
  {
   "cell_type": "code",
   "execution_count": 5,
   "metadata": {},
   "outputs": [
    {
     "data": {
      "text/plain": [
       "23452"
      ]
     },
     "execution_count": 5,
     "metadata": {},
     "output_type": "execute_result"
    }
   ],
   "source": [
    "len(english_texts)"
   ]
  },
  {
   "cell_type": "code",
   "execution_count": 6,
   "metadata": {},
   "outputs": [
    {
     "data": {
      "text/plain": [
       "23452"
      ]
     },
     "execution_count": 6,
     "metadata": {},
     "output_type": "execute_result"
    }
   ],
   "source": [
    "len(igbo_texts)"
   ]
  },
  {
   "cell_type": "code",
   "execution_count": 7,
   "metadata": {},
   "outputs": [],
   "source": [
    "english_texts = clean_lines(english_texts, True)"
   ]
  },
  {
   "cell_type": "code",
   "execution_count": 8,
   "metadata": {},
   "outputs": [],
   "source": [
    "igbo_texts = clean_lines(igbo_texts, True)"
   ]
  },
  {
   "cell_type": "code",
   "execution_count": 9,
   "metadata": {},
   "outputs": [
    {
     "name": "stdout",
     "output_type": "stream",
     "text": [
      "['\\t fepu \\n', '\\t 56 O ga erukwa na di nnoo ka m bu n obi ime ha , otu ahu ka m ga eme unu . \\n', '\\t 163 Akporo m okwu ugha asi , ana m aso ya oyi . Ahuru m iwu gi n anya . \\n', '\\t aru ofufo \\n', '\\t O cho isekapu ofu aka ewi \\n']\n",
      "['\\t hurry off \\n', '\\t 56 And I will do to you what I intended to do to them . \\n', '\\t 163 I hate falsehood I detest it I love your law . \\n', '\\t freedom from care \\n', '\\t She wants to tear off one foreleg of the giant rat \\n']\n"
     ]
    }
   ],
   "source": [
    "print(igbo_texts[110:115])\n",
    "print(english_texts[110:115])"
   ]
  },
  {
   "cell_type": "code",
   "execution_count": 10,
   "metadata": {},
   "outputs": [
    {
     "name": "stdout",
     "output_type": "stream",
     "text": [
      "112 128\n"
     ]
    }
   ],
   "source": [
    "Tx = max([len(x) for x in english_texts])\n",
    "Ty = max([len(x) for x in igbo_texts])\n",
    "print(Tx, Ty)"
   ]
  },
  {
   "cell_type": "code",
   "execution_count": 11,
   "metadata": {},
   "outputs": [],
   "source": [
    "english_characters = get_all_characters(english_texts)\n",
    "igbo_characters = get_all_characters(igbo_texts)"
   ]
  },
  {
   "cell_type": "code",
   "execution_count": 12,
   "metadata": {},
   "outputs": [],
   "source": [
    "num_english_tokens = len(english_characters)\n",
    "num_igbo_tokens = len(igbo_characters)"
   ]
  },
  {
   "cell_type": "code",
   "execution_count": 13,
   "metadata": {},
   "outputs": [
    {
     "name": "stdout",
     "output_type": "stream",
     "text": [
      "Number of input 23452\n",
      "Number of unique igbo characters 65\n",
      "Number of unique english characters 67\n"
     ]
    }
   ],
   "source": [
    "print(\"Number of input\", len(english_texts))\n",
    "print(\"Number of unique igbo characters\", num_igbo_tokens)\n",
    "print(\"Number of unique english characters\", num_english_tokens)"
   ]
  },
  {
   "cell_type": "code",
   "execution_count": 14,
   "metadata": {},
   "outputs": [],
   "source": [
    "igbo_vocab = get_vocab(igbo_characters)\n",
    "english_vocab = get_vocab(english_characters)\n",
    "igbo_inv_vocab = get_inv_vocab(igbo_vocab)"
   ]
  },
  {
   "cell_type": "code",
   "execution_count": 27,
   "metadata": {},
   "outputs": [
    {
     "data": {
      "text/plain": [
       "defaultdict(<function models.utils.get_vocab.<locals>.<lambda>()>,\n",
       "            {'\\t': 0,\n",
       "             '\\n': 1,\n",
       "             ' ': 2,\n",
       "             '!': 3,\n",
       "             ',': 4,\n",
       "             '.': 5,\n",
       "             '1': 6,\n",
       "             '2': 7,\n",
       "             '3': 8,\n",
       "             '4': 9,\n",
       "             '5': 10,\n",
       "             '6': 11,\n",
       "             '7': 12,\n",
       "             '8': 13,\n",
       "             '9': 14,\n",
       "             '?': 15,\n",
       "             'A': 16,\n",
       "             'B': 17,\n",
       "             'C': 18,\n",
       "             'D': 19,\n",
       "             'E': 20,\n",
       "             'F': 21,\n",
       "             'G': 22,\n",
       "             'H': 23,\n",
       "             'I': 24,\n",
       "             'J': 25,\n",
       "             'K': 26,\n",
       "             'L': 27,\n",
       "             'M': 28,\n",
       "             'N': 29,\n",
       "             'O': 30,\n",
       "             'P': 31,\n",
       "             'Q': 32,\n",
       "             'R': 33,\n",
       "             'S': 34,\n",
       "             'T': 35,\n",
       "             'U': 36,\n",
       "             'V': 37,\n",
       "             'W': 38,\n",
       "             'Y': 39,\n",
       "             'Z': 40,\n",
       "             'a': 41,\n",
       "             'b': 42,\n",
       "             'c': 43,\n",
       "             'd': 44,\n",
       "             'e': 45,\n",
       "             'f': 46,\n",
       "             'g': 47,\n",
       "             'h': 48,\n",
       "             'i': 49,\n",
       "             'j': 50,\n",
       "             'k': 51,\n",
       "             'l': 52,\n",
       "             'm': 53,\n",
       "             'n': 54,\n",
       "             'o': 55,\n",
       "             'p': 56,\n",
       "             'q': 57,\n",
       "             'r': 58,\n",
       "             's': 59,\n",
       "             't': 60,\n",
       "             'u': 61,\n",
       "             'v': 62,\n",
       "             'w': 63,\n",
       "             'x': 64,\n",
       "             'y': 65,\n",
       "             'z': 66})"
      ]
     },
     "execution_count": 27,
     "metadata": {},
     "output_type": "execute_result"
    }
   ],
   "source": [
    "english_vocab"
   ]
  },
  {
   "cell_type": "code",
   "execution_count": 15,
   "metadata": {},
   "outputs": [],
   "source": [
    "encoder_input_data = preprocess_input_data(english_texts, english_vocab, Tx, num_english_tokens)\n",
    "decoder_input_data = preprocess_input_data(igbo_texts, igbo_vocab, Ty, num_igbo_tokens)\n",
    "decoder_target_data = preprocess_target_data(igbo_texts, igbo_vocab, Ty, num_igbo_tokens)"
   ]
  },
  {
   "cell_type": "code",
   "execution_count": 16,
   "metadata": {},
   "outputs": [],
   "source": [
    "dimension = 256\n",
    "epochs = 1\n",
    "batch_size = 64"
   ]
  },
  {
   "cell_type": "code",
   "execution_count": 17,
   "metadata": {},
   "outputs": [],
   "source": [
    "model = load_model('../saved-models/seq2seq-ascii.h5')"
   ]
  },
  {
   "cell_type": "code",
   "execution_count": 13,
   "metadata": {},
   "outputs": [],
   "source": [
    "model  = custom_model(num_english_tokens, num_igbo_tokens, dimension)"
   ]
  },
  {
   "cell_type": "code",
   "execution_count": 18,
   "metadata": {},
   "outputs": [],
   "source": [
    "model.compile(optimizer='rmsprop', loss='categorical_crossentropy')"
   ]
  },
  {
   "cell_type": "code",
   "execution_count": 18,
   "metadata": {},
   "outputs": [
    {
     "name": "stdout",
     "output_type": "stream",
     "text": [
      "__________________________________________________________________________________________________\n",
      "Layer (type)                    Output Shape         Param #     Connected to                     \n",
      "==================================================================================================\n",
      "encoder_inputs (InputLayer)     (None, None, 67)     0                                            \n",
      "__________________________________________________________________________________________________\n",
      "decoder_inputs (InputLayer)     (None, None, 65)     0                                            \n",
      "__________________________________________________________________________________________________\n",
      "encoder_lstm (LSTM)             [(None, 256), (None, 331776      encoder_inputs[0][0]             \n",
      "__________________________________________________________________________________________________\n",
      "decoder_lstm (LSTM)             [(None, None, 256),  329728      decoder_inputs[0][0]             \n",
      "                                                                 encoder_lstm[0][1]               \n",
      "                                                                 encoder_lstm[0][2]               \n",
      "__________________________________________________________________________________________________\n",
      "decoder_dense (Dense)           (None, None, 65)     16705       decoder_lstm[0][0]               \n",
      "==================================================================================================\n",
      "Total params: 678,209\n",
      "Trainable params: 678,209\n",
      "Non-trainable params: 0\n",
      "__________________________________________________________________________________________________\n"
     ]
    }
   ],
   "source": [
    "model.summary()"
   ]
  },
  {
   "cell_type": "code",
   "execution_count": 26,
   "metadata": {},
   "outputs": [
    {
     "name": "stdout",
     "output_type": "stream",
     "text": [
      "Train on 21059 samples, validate on 2340 samples\n",
      "Epoch 1/1\n",
      "21059/21059 [==============================] - 347s 16ms/step - loss: 0.8469 - val_loss: 0.7161\n"
     ]
    },
    {
     "data": {
      "text/plain": [
       "<keras.callbacks.History at 0x25fca914ac8>"
      ]
     },
     "execution_count": 26,
     "metadata": {},
     "output_type": "execute_result"
    }
   ],
   "source": [
    "model.fit([encoder_input_data, decoder_input_data], \n",
    "                  decoder_target_data, \n",
    "                  batch_size=batch_size, \n",
    "                  epochs=epochs, validation_split=0.1)"
   ]
  },
  {
   "cell_type": "code",
   "execution_count": 19,
   "metadata": {},
   "outputs": [],
   "source": [
    "encoder_inputs = model.inputs[0]"
   ]
  },
  {
   "cell_type": "code",
   "execution_count": 20,
   "metadata": {},
   "outputs": [],
   "source": [
    "encoder_lstm = model.get_layer(name='encoder_lstm')"
   ]
  },
  {
   "cell_type": "code",
   "execution_count": 21,
   "metadata": {},
   "outputs": [],
   "source": [
    "decoder_inputs = model.inputs[1]"
   ]
  },
  {
   "cell_type": "code",
   "execution_count": 22,
   "metadata": {},
   "outputs": [],
   "source": [
    "decoder_lstm = model.get_layer(name='decoder_lstm')"
   ]
  },
  {
   "cell_type": "code",
   "execution_count": 23,
   "metadata": {},
   "outputs": [],
   "source": [
    "decoder_dense = model.get_layer(name='decoder_dense')"
   ]
  },
  {
   "cell_type": "code",
   "execution_count": 24,
   "metadata": {},
   "outputs": [],
   "source": [
    "encoder_model = encoder_model(encoder_inputs, encoder_lstm)"
   ]
  },
  {
   "cell_type": "code",
   "execution_count": 25,
   "metadata": {},
   "outputs": [],
   "source": [
    "decoder_model = decoder_model(dimension, decoder_lstm, decoder_inputs, decoder_dense)"
   ]
  },
  {
   "cell_type": "code",
   "execution_count": 26,
   "metadata": {},
   "outputs": [
    {
     "name": "stdout",
     "output_type": "stream",
     "text": [
      "Source:  \t 26 Give thanks to the God of the heavens , For his loyal love endures forever . \n",
      "\n",
      "Output:   26 Chineke , biko , ka m ga eme ka m buru ihe ndina gi , m ga aga nke umu Izrel . \n",
      "\n",
      "Source:  \t 11 And they began to question him , saying Why do the scribes say that E li jah must come first ? \n",
      "\n",
      "Output:   11 O wee si ha O bu na ndi a ga agha wee mee mmadu ahu , o bukwa n ebe ahu ka ha na eme omume ozugbo . \n",
      "\n",
      "Source:  \t language \n",
      "\n",
      "Output:   obu anya \n",
      "\n",
      "Source:  \t shut one s mouth \n",
      "\n",
      "Output:   kpu oku \n",
      "\n",
      "Source:  \t dig ground \n",
      "\n",
      "Output:   wa ani \n",
      "\n",
      "Source:  \t 11 By Hu shim he became father to A bi tub and El pa al . \n",
      "\n",
      "Output:   11 Obi m dikwara m , si , O buru na i meere m amara . \n",
      "\n",
      "Source:  \t intestinal worm \n",
      "\n",
      "Output:   akpa ego \n",
      "\n",
      "Source:  \t 22 Then King Je hoi a kim sent El na than the son of Ach bor and other men with him to Egypt . \n",
      "\n",
      "Output:   22 Jotam nwunye nwaanyi Sila na Zeron na Jehoshan na Jefiya . \n",
      "\n",
      "Source:  \t 14 Ne than el the fourth , Rad dai the fifth , \n",
      "\n",
      "Output:   14 na Haza na Kishon na Jesheka na Netaf , \n",
      "\n",
      "Source:  \t 22 and whoever swears by heaven is swearing by the throne of God and by the One sitting on it . \n",
      "\n",
      "Output:   22 onye nwere nghota na ekwu okwu na ekwu okwu onu mere ka a na atu egwu Jehova , ma onye na eso uzo ya . \n",
      "\n",
      "Source:  \t Afor and Nkwo \n",
      "\n",
      "Output:   Orim mili \n",
      "\n",
      "Source:  \t she herself \n",
      "\n",
      "Output:   ya n afu \n",
      "\n",
      "Source:  \t commit abortion \n",
      "\n",
      "Output:   gba afia \n",
      "\n",
      "Source:  \t be disobedient \n",
      "\n",
      "Output:   gba nti \n",
      "\n",
      "Source:  \t place where yams are stacked and stored \n",
      "\n",
      "Output:   akpa nnwa \n",
      "\n",
      "Source:  \t clear bush of trees \n",
      "\n",
      "Output:   kpu \n",
      "\n",
      "Source:  \t 8 But God recommends his own love to us in that , while we were yet sinners , Christ died for us . \n",
      "\n",
      "Output:   8 Ma mgbe ahu na agho ahu ulo na eme ndi ajo omume , o ga eme ka ndi na abu aku , a ga emekwa ka o gwa anyi . \n",
      "\n",
      "Source:  \t be proud \n",
      "\n",
      "Output:   gba aguu \n",
      "\n",
      "Source:  \t make \n",
      "\n",
      "Output:   kpu \n",
      "\n",
      "Source:  \t 23 and Jesus was walking in the temple in the colonnade of Sol o mon . \n",
      "\n",
      "Output:   23 Jizos siri ya O bu mmadu asaa na Samasa . O bu na Samesa gaara atu ahu mee ka eze gi niile . \n",
      "\n",
      "Source:  \t 43 Moses and Aaron went before the tent of meeting , \n",
      "\n",
      "Output:   43 Ma o buru na o ba n ala ahu puo , o ga akwado ogbe ya nye ya . \n",
      "\n",
      "Source:  \t 12 When he snatches something , who can resist him ? Who can say to him , What are you doing ? \n",
      "\n",
      "Output:   12 Mgbe o banyere n agha , Ha si n ulo Izrel , gwa onye nke oma , si Onyenwe anyi , ka anyi banyere n ime ha . \n",
      "\n",
      "Source:  \t 22 all the kings of Tyre , all the kings of Si don , and the kings of the island in the sea \n",
      "\n",
      "Output:   22 na ndi eze niile nke Gbuo na ndi eze niile na adighi eze ihe ihe o bula di nakwa di n ebe di anya . \n",
      "\n",
      "Source:  \t scrape \n",
      "\n",
      "Output:   kpacha \n",
      "\n",
      "Source:  \t 36 I gal the son of Nathan of Zo bah , Ba ni the Gad ite , \n",
      "\n",
      "Output:   36 Niile na Hezam na Modamat amuo Amaiel . \n",
      "\n",
      "Source:  \t sit with the lower limbs twisted and drawn up \n",
      "\n",
      "Output:   gwo \n",
      "\n",
      "Source:  \t 26 They glide by like reed boats , Like eagles that swoop down on their prey . \n",
      "\n",
      "Output:   26 Onye na esi oli na ndi na awukwa anyi oge aghugho di ka a ga asi na o bu nke na enweghi uche . \n",
      "\n",
      "Source:  \t while \n",
      "\n",
      "Output:   umu aka \n",
      "\n",
      "Source:  \t hold annual new yam festival \n",
      "\n",
      "Output:   uno akwukwo \n",
      "\n",
      "Source:  \t brush \n",
      "\n",
      "Output:   ani oku \n",
      "\n",
      "Source:  \t 22 for you well know in your heart that many times you yourself have called down evil on others . \n",
      "\n",
      "Output:   22 O wee si ha Onyenwe anyi , o bughi nke gi , ana m eso unu ma o bughi mmehie m . \n",
      "\n",
      "Source:  \t tobacco \n",
      "\n",
      "Output:   anu \n",
      "\n",
      "Source:  \t dispute \n",
      "\n",
      "Output:   kpo \n",
      "\n",
      "Source:  \t 2 And look ! a man who had dropsy was in front of him . \n",
      "\n",
      "Output:   2 O wee si ha O bu na ndi a ga eme ka m na aghota ihe nketa ha . \n",
      "\n",
      "Source:  \t pack together \n",
      "\n",
      "Output:   kwanye \n",
      "\n",
      "Source:  \t abada cloth \n",
      "\n",
      "Output:   akwa aji \n",
      "\n",
      "Source:  \t Are you sure Chioma will come today ? Yes \n",
      "\n",
      "Output:   I na ekwu anu ka o ga asi \n",
      "\n",
      "Source:  \t electric catfish \n",
      "\n",
      "Output:   enu onu \n",
      "\n",
      "Source:  \t troublesome world \n",
      "\n",
      "Output:   nwa afo \n",
      "\n",
      "Source:  \t 4 His spirit goes out , he returns to the ground On that very day his thoughts perish . \n",
      "\n",
      "Output:   4 Onye na ahu maka na anu onyeisi na ahu ma o bu ahu na oke iwe ya . \n",
      "\n",
      "Source:  \t 14 They now sent word to Jez e bel , saying Na both has been stoned to death . \n",
      "\n",
      "Output:   14 Ndi agha ya , bu ndi na abu abu , na mmehie ahu , ndi na atu egwu Jehova na agozikwa . \n",
      "\n",
      "Source:  \t 6 He spread out the earth over the waters , For his loyal love endures forever . \n",
      "\n",
      "Output:   6 O na eme ka a hu na ha bu ugbo mmiri na adighi asu mgbe a na akaghi aka , O bukwa n oge ahu ka o ga esi mara ya . \n",
      "\n",
      "Source:  \t mark \n",
      "\n",
      "Output:   kpu \n",
      "\n",
      "Source:  \t 38 Joel the brother of Nathan , Mib har the son of Hag ri , \n",
      "\n",
      "Output:   38 na Jeha edikwa na nti nna ya nke ibu ndi ezinulo ndi bi n elu uwa . \n",
      "\n",
      "Source:  \t the younger generation \n",
      "\n",
      "Output:   ndi ikpe ezi \n",
      "\n",
      "Source:  \t swamp \n",
      "\n",
      "Output:   anu ezi \n",
      "\n",
      "Source:  \t 38 The sons of Je ther were Je phun neh , Pis pah , and A ra . \n",
      "\n",
      "Output:   38 Umu Jisef bu Onye Izrel , bu onyeisi ndi agha , bu onye na emekwara . \n",
      "\n",
      "Source:  \t jealousy \n",
      "\n",
      "Output:   akwa aji \n",
      "\n",
      "Source:  \t 18 Why do you inspect him every morning And test him every moment ? \n",
      "\n",
      "Output:   18 Mgbe ndi Izrel bu nke nwere nghota , ndi na ejere ndi niile ha na eweta onwa mma agha . \n",
      "\n",
      "Source:  \t sign of affirmation \n",
      "\n",
      "Output:   ife oghugha \n",
      "\n"
     ]
    }
   ],
   "source": [
    "for i in range(750, 800):\n",
    "    input_seq = encoder_input_data[i:i+1]\n",
    "    decoded_sentence = decode_sequence(input_seq, encoder_model, num_igbo_tokens, igbo_vocab, decoder_model, igbo_inv_vocab, Ty)\n",
    "    print(\"Source: \", english_texts[i])\n",
    "    print(\"Output: \", decoded_sentence)"
   ]
  }
 ],
 "metadata": {
  "kernelspec": {
   "display_name": "Python 3",
   "language": "python",
   "name": "python3"
  },
  "language_info": {
   "codemirror_mode": {
    "name": "ipython",
    "version": 3
   },
   "file_extension": ".py",
   "mimetype": "text/x-python",
   "name": "python",
   "nbconvert_exporter": "python",
   "pygments_lexer": "ipython3",
   "version": "3.6.5"
  }
 },
 "nbformat": 4,
 "nbformat_minor": 2
}
