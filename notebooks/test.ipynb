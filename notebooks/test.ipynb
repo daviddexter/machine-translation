{
 "cells": [
  {
   "cell_type": "code",
   "execution_count": 1,
   "metadata": {},
   "outputs": [
    {
     "name": "stderr",
     "output_type": "stream",
     "text": [
      "Using TensorFlow backend.\n"
     ]
    }
   ],
   "source": [
    "import numpy as np\n",
    "import pandas as pd\n",
    "import sys\n",
    "import os\n",
    "from keras.optimizers import Adam\n",
    "sys.path.append(os.path.join('..'))\n",
    "import dataloader\n",
    "from transformer import transformer, extras"
   ]
  },
  {
   "cell_type": "code",
   "execution_count": 2,
   "metadata": {},
   "outputs": [],
   "source": [
    "X, y, tokens = dataloader.generate_fake_data(11, 7500)\n",
    "x_tokens = dataloader.TokenList(tokens)\n",
    "y_tokens = dataloader.TokenList(tokens)\n",
    "X, y = dataloader.make_data(X, y, x_tokens, y_tokens)"
   ]
  },
  {
   "cell_type": "code",
   "execution_count": 3,
   "metadata": {},
   "outputs": [],
   "source": [
    "model_size = 512"
   ]
  },
  {
   "cell_type": "code",
   "execution_count": 4,
   "metadata": {},
   "outputs": [],
   "source": [
    "trans = transformer.Transformer(x_tokens, y_tokens, model_size, 2048, 2, 8)"
   ]
  },
  {
   "cell_type": "code",
   "execution_count": 5,
   "metadata": {},
   "outputs": [],
   "source": [
    "trans.compile(Adam(0.001, 0.9, 0.98, epsilon=1e-9))"
   ]
  },
  {
   "cell_type": "code",
   "execution_count": 6,
   "metadata": {},
   "outputs": [
    {
     "name": "stdout",
     "output_type": "stream",
     "text": [
      "__________________________________________________________________________________________________\n",
      "Layer (type)                    Output Shape         Param #     Connected to                     \n",
      "==================================================================================================\n",
      "input_1 (InputLayer)            (None, None)         0                                            \n",
      "__________________________________________________________________________________________________\n",
      "embeddings_1 (Embeddings)       (None, None, 512)    7168        input_1[0][0]                    \n",
      "__________________________________________________________________________________________________\n",
      "position_encoding_1 (PositionEn (None, None, 512)    0           embeddings_1[0][0]               \n",
      "__________________________________________________________________________________________________\n",
      "dropout_1 (Dropout)             (None, None, 512)    0           position_encoding_1[0][0]        \n",
      "__________________________________________________________________________________________________\n",
      "layer_normalization_1 (LayerNor (None, None, 512)    1024        dropout_1[0][0]                  \n",
      "__________________________________________________________________________________________________\n",
      "masking_1 (Masking)             (None, 1, 1, None)   0           input_1[0][0]                    \n",
      "                                                                 input_1[0][0]                    \n",
      "__________________________________________________________________________________________________\n",
      "encoder_attention_1 (MultiHeadS (None, None, 512)    1048576     layer_normalization_1[0][0]      \n",
      "                                                                 masking_1[0][0]                  \n",
      "__________________________________________________________________________________________________\n",
      "dropout_2 (Dropout)             (None, None, 512)    0           encoder_attention_1[0][0]        \n",
      "__________________________________________________________________________________________________\n",
      "add_1 (Add)                     (None, None, 512)    0           dropout_1[0][0]                  \n",
      "                                                                 dropout_2[0][0]                  \n",
      "__________________________________________________________________________________________________\n",
      "layer_normalization_2 (LayerNor (None, None, 512)    1024        add_1[0][0]                      \n",
      "__________________________________________________________________________________________________\n",
      "padding_1 (Padding)             (None, None)         0           input_1[0][0]                    \n",
      "__________________________________________________________________________________________________\n",
      "encoder_ffn_1 (FeedForwardNetwo (None, None, 512)    2099712     layer_normalization_2[0][0]      \n",
      "                                                                 padding_1[0][0]                  \n",
      "__________________________________________________________________________________________________\n",
      "dropout_3 (Dropout)             (None, None, 512)    0           encoder_ffn_1[0][0]              \n",
      "__________________________________________________________________________________________________\n",
      "input_2 (InputLayer)            (None, None)         0                                            \n",
      "__________________________________________________________________________________________________\n",
      "add_2 (Add)                     (None, None, 512)    0           add_1[0][0]                      \n",
      "                                                                 dropout_3[0][0]                  \n",
      "__________________________________________________________________________________________________\n",
      "lambda_2 (Lambda)               (None, None)         0           input_2[0][0]                    \n",
      "__________________________________________________________________________________________________\n",
      "layer_normalization_3 (LayerNor (None, None, 512)    1024        add_2[0][0]                      \n",
      "__________________________________________________________________________________________________\n",
      "embeddings_2 (Embeddings)       (None, None, 512)    7168        lambda_2[0][0]                   \n",
      "__________________________________________________________________________________________________\n",
      "encoder_attention_2 (MultiHeadS (None, None, 512)    1048576     layer_normalization_3[0][0]      \n",
      "                                                                 masking_1[0][0]                  \n",
      "__________________________________________________________________________________________________\n",
      "position_encoding_2 (PositionEn (None, None, 512)    0           embeddings_2[0][0]               \n",
      "__________________________________________________________________________________________________\n",
      "dropout_4 (Dropout)             (None, None, 512)    0           encoder_attention_2[0][0]        \n",
      "__________________________________________________________________________________________________\n",
      "dropout_6 (Dropout)             (None, None, 512)    0           position_encoding_2[0][0]        \n",
      "__________________________________________________________________________________________________\n",
      "add_3 (Add)                     (None, None, 512)    0           add_2[0][0]                      \n",
      "                                                                 dropout_4[0][0]                  \n",
      "__________________________________________________________________________________________________\n",
      "layer_normalization_5 (LayerNor (None, None, 512)    1024        dropout_6[0][0]                  \n",
      "__________________________________________________________________________________________________\n",
      "masking_2 (Masking)             (1, 1, None, None)   0           lambda_2[0][0]                   \n",
      "__________________________________________________________________________________________________\n",
      "layer_normalization_4 (LayerNor (None, None, 512)    1024        add_3[0][0]                      \n",
      "__________________________________________________________________________________________________\n",
      "decoder_attention_1 (MultiHeadS (None, None, 512)    1048576     layer_normalization_5[0][0]      \n",
      "                                                                 masking_2[0][0]                  \n",
      "__________________________________________________________________________________________________\n",
      "encoder_ffn_2 (FeedForwardNetwo (None, None, 512)    2099712     layer_normalization_4[0][0]      \n",
      "                                                                 padding_1[0][0]                  \n",
      "__________________________________________________________________________________________________\n",
      "dropout_7 (Dropout)             (None, None, 512)    0           decoder_attention_1[0][0]        \n",
      "__________________________________________________________________________________________________\n",
      "dropout_5 (Dropout)             (None, None, 512)    0           encoder_ffn_2[0][0]              \n",
      "__________________________________________________________________________________________________\n",
      "add_5 (Add)                     (None, None, 512)    0           dropout_6[0][0]                  \n",
      "                                                                 dropout_7[0][0]                  \n",
      "__________________________________________________________________________________________________\n",
      "add_4 (Add)                     (None, None, 512)    0           add_3[0][0]                      \n",
      "                                                                 dropout_5[0][0]                  \n",
      "__________________________________________________________________________________________________\n",
      "layer_normalization_6 (LayerNor (None, None, 512)    1024        add_5[0][0]                      \n",
      "__________________________________________________________________________________________________\n",
      "encoder (LayerNormalization)    (None, None, 512)    1024        add_4[0][0]                      \n",
      "__________________________________________________________________________________________________\n",
      "enc_dec_attention_1 (MultiHeadA (None, None, 512)    1048576     layer_normalization_6[0][0]      \n",
      "                                                                 encoder[0][0]                    \n",
      "                                                                 masking_1[1][0]                  \n",
      "__________________________________________________________________________________________________\n",
      "dropout_8 (Dropout)             (None, None, 512)    0           enc_dec_attention_1[0][0]        \n",
      "__________________________________________________________________________________________________\n",
      "add_6 (Add)                     (None, None, 512)    0           add_5[0][0]                      \n",
      "                                                                 dropout_8[0][0]                  \n",
      "__________________________________________________________________________________________________\n",
      "layer_normalization_7 (LayerNor (None, None, 512)    1024        add_6[0][0]                      \n",
      "__________________________________________________________________________________________________\n",
      "decoder_ffn_1 (FeedForwardNetwo (None, None, 512)    2099712     layer_normalization_7[0][0]      \n",
      "__________________________________________________________________________________________________\n",
      "dropout_9 (Dropout)             (None, None, 512)    0           decoder_ffn_1[0][0]              \n",
      "__________________________________________________________________________________________________\n",
      "add_7 (Add)                     (None, None, 512)    0           add_6[0][0]                      \n",
      "                                                                 dropout_9[0][0]                  \n",
      "__________________________________________________________________________________________________\n",
      "layer_normalization_8 (LayerNor (None, None, 512)    1024        add_7[0][0]                      \n",
      "__________________________________________________________________________________________________\n",
      "decoder_attention_2 (MultiHeadS (None, None, 512)    1048576     layer_normalization_8[0][0]      \n",
      "                                                                 masking_2[0][0]                  \n",
      "__________________________________________________________________________________________________\n",
      "dropout_10 (Dropout)            (None, None, 512)    0           decoder_attention_2[0][0]        \n",
      "__________________________________________________________________________________________________\n",
      "add_8 (Add)                     (None, None, 512)    0           add_7[0][0]                      \n",
      "                                                                 dropout_10[0][0]                 \n",
      "__________________________________________________________________________________________________\n",
      "layer_normalization_9 (LayerNor (None, None, 512)    1024        add_8[0][0]                      \n",
      "__________________________________________________________________________________________________\n",
      "enc_dec_attention_2 (MultiHeadA (None, None, 512)    1048576     layer_normalization_9[0][0]      \n",
      "                                                                 encoder[0][0]                    \n",
      "                                                                 masking_1[1][0]                  \n",
      "__________________________________________________________________________________________________\n",
      "dropout_11 (Dropout)            (None, None, 512)    0           enc_dec_attention_2[0][0]        \n",
      "__________________________________________________________________________________________________\n",
      "add_9 (Add)                     (None, None, 512)    0           add_8[0][0]                      \n",
      "                                                                 dropout_11[0][0]                 \n",
      "__________________________________________________________________________________________________\n",
      "layer_normalization_10 (LayerNo (None, None, 512)    1024        add_9[0][0]                      \n",
      "__________________________________________________________________________________________________\n",
      "decoder_ffn_2 (FeedForwardNetwo (None, None, 512)    2099712     layer_normalization_10[0][0]     \n",
      "__________________________________________________________________________________________________\n",
      "dropout_12 (Dropout)            (None, None, 512)    0           decoder_ffn_2[0][0]              \n",
      "__________________________________________________________________________________________________\n",
      "add_10 (Add)                    (None, None, 512)    0           add_9[0][0]                      \n",
      "                                                                 dropout_12[0][0]                 \n",
      "__________________________________________________________________________________________________\n",
      "decoder_norm (LayerNormalizatio (None, None, 512)    1024        add_10[0][0]                     \n",
      "__________________________________________________________________________________________________\n",
      "time_distributed_1 (TimeDistrib (None, None, 14)     7182        decoder_norm[0][0]               \n",
      "__________________________________________________________________________________________________\n",
      "lambda_1 (Lambda)               (None, None)         0           input_2[0][0]                    \n",
      "__________________________________________________________________________________________________\n",
      "loss (Lambda)                   ()                   0           time_distributed_1[0][0]         \n",
      "                                                                 lambda_1[0][0]                   \n",
      "==================================================================================================\n",
      "Total params: 14,724,110\n",
      "Trainable params: 14,724,110\n",
      "Non-trainable params: 0\n",
      "__________________________________________________________________________________________________\n"
     ]
    }
   ],
   "source": [
    "trans.model.summary()"
   ]
  },
  {
   "cell_type": "code",
   "execution_count": 7,
   "metadata": {},
   "outputs": [],
   "source": [
    "lr_scheduler = extras.LRSchedulerPerStep(model_size, 400)"
   ]
  },
  {
   "cell_type": "code",
   "execution_count": 8,
   "metadata": {},
   "outputs": [
    {
     "name": "stderr",
     "output_type": "stream",
     "text": [
      "c:\\program files\\python36\\lib\\site-packages\\tensorflow\\python\\ops\\gradients_impl.py:112: UserWarning: Converting sparse IndexedSlices to a dense Tensor of unknown shape. This may consume a large amount of memory.\n",
      "  \"Converting sparse IndexedSlices to a dense Tensor of unknown shape. \"\n"
     ]
    },
    {
     "name": "stdout",
     "output_type": "stream",
     "text": [
      "Epoch 1/1\n",
      "7500/7500 [==============================] - 212s 28ms/step - loss: 1.7221 - perplexity: 5.8066 - accu: 0.3420\n"
     ]
    },
    {
     "data": {
      "text/plain": [
       "<keras.callbacks.History at 0x23f63d48d30>"
      ]
     },
     "execution_count": 8,
     "metadata": {},
     "output_type": "execute_result"
    }
   ],
   "source": [
    "trans.model.fit([X, y], None, batch_size=30, epochs=1, callbacks=[lr_scheduler])"
   ]
  },
  {
   "cell_type": "code",
   "execution_count": 9,
   "metadata": {},
   "outputs": [],
   "source": [
    "decoded = trans.decode_sequence([ 1, 2, 3, 4, 5, 6, 7, 8, 9, 10])"
   ]
  },
  {
   "cell_type": "code",
   "execution_count": 10,
   "metadata": {},
   "outputs": [
    {
     "name": "stdout",
     "output_type": "stream",
     "text": [
      "[9, 6, 7, 1, 4, 3, 10, 5, 2, 1, '<EOS>']\n"
     ]
    }
   ],
   "source": [
    "print(decoded)"
   ]
  },
  {
   "cell_type": "code",
   "execution_count": 13,
   "metadata": {},
   "outputs": [
    {
     "data": {
      "text/plain": [
       "(array([ 2,  6,  8,  7,  4, 12,  6,  9, 11,  5, 11,  3]),\n",
       " array([ 2,  6,  8,  7,  4, 12,  6,  9, 11,  5, 11,  3]))"
      ]
     },
     "execution_count": 13,
     "metadata": {},
     "output_type": "execute_result"
    }
   ],
   "source": [
    "X[0], y[0]"
   ]
  },
  {
   "cell_type": "code",
   "execution_count": 14,
   "metadata": {},
   "outputs": [
    {
     "data": {
      "text/plain": [
       "['<PAD>', '<UNK>', '<BOS>', '<EOS>', 1, 2, 3, 4, 5, 6, 7, 8, 9, 10]"
      ]
     },
     "execution_count": 14,
     "metadata": {},
     "output_type": "execute_result"
    }
   ],
   "source": [
    "x_tokens.id2token"
   ]
  },
  {
   "cell_type": "code",
   "execution_count": null,
   "metadata": {},
   "outputs": [],
   "source": []
  }
 ],
 "metadata": {
  "kernelspec": {
   "display_name": "Python 3",
   "language": "python",
   "name": "python3"
  },
  "language_info": {
   "codemirror_mode": {
    "name": "ipython",
    "version": 3
   },
   "file_extension": ".py",
   "mimetype": "text/x-python",
   "name": "python",
   "nbconvert_exporter": "python",
   "pygments_lexer": "ipython3",
   "version": "3.6.5"
  }
 },
 "nbformat": 4,
 "nbformat_minor": 2
}
