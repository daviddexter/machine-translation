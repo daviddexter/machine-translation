{
 "cells": [
  {
   "cell_type": "code",
   "execution_count": 24,
   "metadata": {},
   "outputs": [],
   "source": [
    "import pandas as pd\n",
    "from keras.models import load_model\n",
    "import sys\n",
    "import os\n",
    "import numpy as np\n",
    "sys.path.append(os.path.join('..'))\n",
    "from models.utils import get_all_characters, get_vocab, get_inv_vocab, preprocess_input_data\n",
    "from models.utils import clean_lines, get_short_sentences, decode_sequence\n",
    "from models.rnn_attention import custom_model, AttentionLayer"
   ]
  },
  {
   "cell_type": "code",
   "execution_count": 2,
   "metadata": {},
   "outputs": [],
   "source": [
    "dataset = pd.read_csv('../data/data.csv')"
   ]
  },
  {
   "cell_type": "code",
   "execution_count": 3,
   "metadata": {},
   "outputs": [
    {
     "data": {
      "text/html": [
       "<div>\n",
       "<style scoped>\n",
       "    .dataframe tbody tr th:only-of-type {\n",
       "        vertical-align: middle;\n",
       "    }\n",
       "\n",
       "    .dataframe tbody tr th {\n",
       "        vertical-align: top;\n",
       "    }\n",
       "\n",
       "    .dataframe thead th {\n",
       "        text-align: right;\n",
       "    }\n",
       "</style>\n",
       "<table border=\"1\" class=\"dataframe\">\n",
       "  <thead>\n",
       "    <tr style=\"text-align: right;\">\n",
       "      <th></th>\n",
       "      <th>Unnamed: 0</th>\n",
       "      <th>en</th>\n",
       "      <th>ig</th>\n",
       "    </tr>\n",
       "  </thead>\n",
       "  <tbody>\n",
       "    <tr>\n",
       "      <th>0</th>\n",
       "      <td>0</td>\n",
       "      <td>into two</td>\n",
       "      <td>yiwa</td>\n",
       "    </tr>\n",
       "    <tr>\n",
       "      <th>1</th>\n",
       "      <td>1</td>\n",
       "      <td>11 Like a dog that returns to its vomit, The s...</td>\n",
       "      <td>11 Dị nnọọ ka nkịta nke na-alaghachi n’agbọ ọ ...</td>\n",
       "    </tr>\n",
       "    <tr>\n",
       "      <th>2</th>\n",
       "      <td>2</td>\n",
       "      <td>rush</td>\n",
       "      <td>kpọwa</td>\n",
       "    </tr>\n",
       "    <tr>\n",
       "      <th>3</th>\n",
       "      <td>3</td>\n",
       "      <td>4 So his father-in-law, the young woman’s fath...</td>\n",
       "      <td>4 Ọgọ nwoke ahụ, bụ́ nna nwa agbọghọ ahụ, ekwe...</td>\n",
       "    </tr>\n",
       "    <tr>\n",
       "      <th>4</th>\n",
       "      <td>4</td>\n",
       "      <td>trap for animals</td>\n",
       "      <td>igbụdụ</td>\n",
       "    </tr>\n",
       "  </tbody>\n",
       "</table>\n",
       "</div>"
      ],
      "text/plain": [
       "   Unnamed: 0                                                 en  \\\n",
       "0           0                                           into two   \n",
       "1           1  11 Like a dog that returns to its vomit, The s...   \n",
       "2           2                                               rush   \n",
       "3           3  4 So his father-in-law, the young woman’s fath...   \n",
       "4           4                                   trap for animals   \n",
       "\n",
       "                                                  ig  \n",
       "0                                               yiwa  \n",
       "1  11 Dị nnọọ ka nkịta nke na-alaghachi n’agbọ ọ ...  \n",
       "2                                              kpọwa  \n",
       "3  4 Ọgọ nwoke ahụ, bụ́ nna nwa agbọghọ ahụ, ekwe...  \n",
       "4                                             igbụdụ  "
      ]
     },
     "execution_count": 3,
     "metadata": {},
     "output_type": "execute_result"
    }
   ],
   "source": [
    "dataset.head()"
   ]
  },
  {
   "cell_type": "code",
   "execution_count": 4,
   "metadata": {},
   "outputs": [],
   "source": [
    "Tx = 100\n",
    "Ty = 120\n",
    "english_texts, igbo_texts = get_short_sentences(dataset, Tx, Ty)"
   ]
  },
  {
   "cell_type": "code",
   "execution_count": 5,
   "metadata": {},
   "outputs": [
    {
     "data": {
      "text/plain": [
       "23452"
      ]
     },
     "execution_count": 5,
     "metadata": {},
     "output_type": "execute_result"
    }
   ],
   "source": [
    "len(english_texts)"
   ]
  },
  {
   "cell_type": "code",
   "execution_count": 6,
   "metadata": {},
   "outputs": [
    {
     "data": {
      "text/plain": [
       "23452"
      ]
     },
     "execution_count": 6,
     "metadata": {},
     "output_type": "execute_result"
    }
   ],
   "source": [
    "len(igbo_texts)"
   ]
  },
  {
   "cell_type": "code",
   "execution_count": 7,
   "metadata": {},
   "outputs": [],
   "source": [
    "english_texts = clean_lines(english_texts, True)"
   ]
  },
  {
   "cell_type": "code",
   "execution_count": 8,
   "metadata": {},
   "outputs": [],
   "source": [
    "igbo_texts = clean_lines(igbo_texts, True)"
   ]
  },
  {
   "cell_type": "code",
   "execution_count": 9,
   "metadata": {},
   "outputs": [
    {
     "name": "stdout",
     "output_type": "stream",
     "text": [
      "['\\t fepu \\n', '\\t 56 O ga erukwa na di nnoo ka m bu n obi ime ha , otu ahu ka m ga eme unu . \\n', '\\t 163 Akporo m okwu ugha asi , ana m aso ya oyi . Ahuru m iwu gi n anya . \\n', '\\t aru ofufo \\n', '\\t O cho isekapu ofu aka ewi \\n']\n",
      "['\\t hurry off \\n', '\\t 56 And I will do to you what I intended to do to them . \\n', '\\t 163 I hate falsehood I detest it I love your law . \\n', '\\t freedom from care \\n', '\\t She wants to tear off one foreleg of the giant rat \\n']\n"
     ]
    }
   ],
   "source": [
    "print(igbo_texts[110:115])\n",
    "print(english_texts[110:115])"
   ]
  },
  {
   "cell_type": "code",
   "execution_count": 10,
   "metadata": {},
   "outputs": [
    {
     "name": "stdout",
     "output_type": "stream",
     "text": [
      "112 128 128\n"
     ]
    }
   ],
   "source": [
    "Tx = max([len(x) for x in english_texts])\n",
    "Ty = max([len(x) for x in igbo_texts])\n",
    "timesteps = max([Tx, Ty])\n",
    "print(Tx, Ty, timesteps)"
   ]
  },
  {
   "cell_type": "code",
   "execution_count": 11,
   "metadata": {},
   "outputs": [],
   "source": [
    "english_characters = get_all_characters(english_texts)\n",
    "igbo_characters = get_all_characters(igbo_texts)"
   ]
  },
  {
   "cell_type": "code",
   "execution_count": 12,
   "metadata": {},
   "outputs": [],
   "source": [
    "num_english_tokens = len(english_characters)\n",
    "num_igbo_tokens = len(igbo_characters)"
   ]
  },
  {
   "cell_type": "code",
   "execution_count": 13,
   "metadata": {},
   "outputs": [
    {
     "name": "stdout",
     "output_type": "stream",
     "text": [
      "Number of input 23452\n",
      "Number of unique igbo characters 65\n",
      "Number of unique english characters 67\n"
     ]
    }
   ],
   "source": [
    "print(\"Number of input\", len(english_texts))\n",
    "print(\"Number of unique igbo characters\", num_igbo_tokens)\n",
    "print(\"Number of unique english characters\", num_english_tokens)"
   ]
  },
  {
   "cell_type": "code",
   "execution_count": 14,
   "metadata": {},
   "outputs": [],
   "source": [
    "igbo_vocab = get_vocab(igbo_characters)\n",
    "english_vocab = get_vocab(english_characters)\n",
    "igbo_inv_vocab = get_inv_vocab(igbo_vocab)"
   ]
  },
  {
   "cell_type": "code",
   "execution_count": 15,
   "metadata": {},
   "outputs": [
    {
     "data": {
      "text/plain": [
       "defaultdict(<function models.utils.get_vocab.<locals>.<lambda>()>,\n",
       "            {'\\t': 0,\n",
       "             '\\n': 1,\n",
       "             ' ': 2,\n",
       "             '!': 3,\n",
       "             ',': 4,\n",
       "             '.': 5,\n",
       "             '1': 6,\n",
       "             '2': 7,\n",
       "             '3': 8,\n",
       "             '4': 9,\n",
       "             '5': 10,\n",
       "             '6': 11,\n",
       "             '7': 12,\n",
       "             '8': 13,\n",
       "             '9': 14,\n",
       "             '?': 15,\n",
       "             'A': 16,\n",
       "             'B': 17,\n",
       "             'C': 18,\n",
       "             'D': 19,\n",
       "             'E': 20,\n",
       "             'F': 21,\n",
       "             'G': 22,\n",
       "             'H': 23,\n",
       "             'I': 24,\n",
       "             'J': 25,\n",
       "             'K': 26,\n",
       "             'L': 27,\n",
       "             'M': 28,\n",
       "             'N': 29,\n",
       "             'O': 30,\n",
       "             'P': 31,\n",
       "             'Q': 32,\n",
       "             'R': 33,\n",
       "             'S': 34,\n",
       "             'T': 35,\n",
       "             'U': 36,\n",
       "             'V': 37,\n",
       "             'W': 38,\n",
       "             'Y': 39,\n",
       "             'Z': 40,\n",
       "             'a': 41,\n",
       "             'b': 42,\n",
       "             'c': 43,\n",
       "             'd': 44,\n",
       "             'e': 45,\n",
       "             'f': 46,\n",
       "             'g': 47,\n",
       "             'h': 48,\n",
       "             'i': 49,\n",
       "             'j': 50,\n",
       "             'k': 51,\n",
       "             'l': 52,\n",
       "             'm': 53,\n",
       "             'n': 54,\n",
       "             'o': 55,\n",
       "             'p': 56,\n",
       "             'q': 57,\n",
       "             'r': 58,\n",
       "             's': 59,\n",
       "             't': 60,\n",
       "             'u': 61,\n",
       "             'v': 62,\n",
       "             'w': 63,\n",
       "             'x': 64,\n",
       "             'y': 65,\n",
       "             'z': 66})"
      ]
     },
     "execution_count": 15,
     "metadata": {},
     "output_type": "execute_result"
    }
   ],
   "source": [
    "english_vocab"
   ]
  },
  {
   "cell_type": "code",
   "execution_count": 16,
   "metadata": {},
   "outputs": [],
   "source": [
    "encoder_data = preprocess_input_data(english_texts, english_vocab, timesteps, num_english_tokens)\n",
    "decoder_data = preprocess_input_data(igbo_texts, igbo_vocab, timesteps, num_igbo_tokens)"
   ]
  },
  {
   "cell_type": "code",
   "execution_count": 17,
   "metadata": {},
   "outputs": [],
   "source": [
    "dimension = 256\n",
    "epochs = 1\n",
    "batch_size = 64"
   ]
  },
  {
   "cell_type": "code",
   "execution_count": 19,
   "metadata": {},
   "outputs": [],
   "source": [
    "#model  = custom_model(num_english_tokens, num_igbo_tokens, dimension, timesteps)\n",
    "model = load_model(\"../saved-models/attention-ascii.h5\", custom_objects={'AttentionLayer': AttentionLayer})"
   ]
  },
  {
   "cell_type": "code",
   "execution_count": 19,
   "metadata": {},
   "outputs": [],
   "source": [
    "model.compile(loss='categorical_crossentropy', optimizer='adam')"
   ]
  },
  {
   "cell_type": "code",
   "execution_count": 20,
   "metadata": {},
   "outputs": [
    {
     "name": "stdout",
     "output_type": "stream",
     "text": [
      "_________________________________________________________________\n",
      "Layer (type)                 Output Shape              Param #   \n",
      "=================================================================\n",
      "input_3 (InputLayer)         (None, 128, 67)           0         \n",
      "_________________________________________________________________\n",
      "bidirectional_3 (Bidirection (None, 128, 512)          663552    \n",
      "_________________________________________________________________\n",
      "attention (AttentionLayer)   (None, 128, 65)           1022914   \n",
      "=================================================================\n",
      "Total params: 1,686,466\n",
      "Trainable params: 1,686,466\n",
      "Non-trainable params: 0\n",
      "_________________________________________________________________\n"
     ]
    }
   ],
   "source": [
    "model.summary()"
   ]
  },
  {
   "cell_type": "code",
   "execution_count": 21,
   "metadata": {},
   "outputs": [
    {
     "data": {
      "text/plain": [
       "(23452, 128, 67)"
      ]
     },
     "execution_count": 21,
     "metadata": {},
     "output_type": "execute_result"
    }
   ],
   "source": [
    "encoder_data.shape"
   ]
  },
  {
   "cell_type": "code",
   "execution_count": 22,
   "metadata": {},
   "outputs": [
    {
     "data": {
      "text/plain": [
       "(23452, 128, 65)"
      ]
     },
     "execution_count": 22,
     "metadata": {},
     "output_type": "execute_result"
    }
   ],
   "source": [
    "decoder_data.shape"
   ]
  },
  {
   "cell_type": "code",
   "execution_count": 23,
   "metadata": {},
   "outputs": [
    {
     "name": "stdout",
     "output_type": "stream",
     "text": [
      "Train on 21106 samples, validate on 2346 samples\n",
      "Epoch 1/1\n",
      "   64/21106 [..............................] - ETA: 1:20:30 - loss: 1.3971"
     ]
    },
    {
     "ename": "KeyboardInterrupt",
     "evalue": "",
     "output_type": "error",
     "traceback": [
      "\u001b[1;31m---------------------------------------------------------------------------\u001b[0m",
      "\u001b[1;31mKeyboardInterrupt\u001b[0m                         Traceback (most recent call last)",
      "\u001b[1;32m<ipython-input-23-a99687dd92f4>\u001b[0m in \u001b[0;36m<module>\u001b[1;34m()\u001b[0m\n\u001b[1;32m----> 1\u001b[1;33m \u001b[0mmodel\u001b[0m\u001b[1;33m.\u001b[0m\u001b[0mfit\u001b[0m\u001b[1;33m(\u001b[0m\u001b[0mencoder_data\u001b[0m\u001b[1;33m,\u001b[0m \u001b[0mdecoder_data\u001b[0m\u001b[1;33m,\u001b[0m \u001b[0mbatch_size\u001b[0m\u001b[1;33m=\u001b[0m\u001b[0mbatch_size\u001b[0m\u001b[1;33m,\u001b[0m \u001b[0mepochs\u001b[0m\u001b[1;33m=\u001b[0m\u001b[0mepochs\u001b[0m\u001b[1;33m,\u001b[0m \u001b[0mvalidation_split\u001b[0m\u001b[1;33m=\u001b[0m\u001b[1;36m0.1\u001b[0m\u001b[1;33m)\u001b[0m\u001b[1;33m\u001b[0m\u001b[0m\n\u001b[0m",
      "\u001b[1;32mc:\\program files\\python36\\lib\\site-packages\\keras\\engine\\training.py\u001b[0m in \u001b[0;36mfit\u001b[1;34m(self, x, y, batch_size, epochs, verbose, callbacks, validation_split, validation_data, shuffle, class_weight, sample_weight, initial_epoch, steps_per_epoch, validation_steps, **kwargs)\u001b[0m\n\u001b[0;32m   1037\u001b[0m                                         \u001b[0minitial_epoch\u001b[0m\u001b[1;33m=\u001b[0m\u001b[0minitial_epoch\u001b[0m\u001b[1;33m,\u001b[0m\u001b[1;33m\u001b[0m\u001b[0m\n\u001b[0;32m   1038\u001b[0m                                         \u001b[0msteps_per_epoch\u001b[0m\u001b[1;33m=\u001b[0m\u001b[0msteps_per_epoch\u001b[0m\u001b[1;33m,\u001b[0m\u001b[1;33m\u001b[0m\u001b[0m\n\u001b[1;32m-> 1039\u001b[1;33m                                         validation_steps=validation_steps)\n\u001b[0m\u001b[0;32m   1040\u001b[0m \u001b[1;33m\u001b[0m\u001b[0m\n\u001b[0;32m   1041\u001b[0m     def evaluate(self, x=None, y=None,\n",
      "\u001b[1;32mc:\\program files\\python36\\lib\\site-packages\\keras\\engine\\training_arrays.py\u001b[0m in \u001b[0;36mfit_loop\u001b[1;34m(model, f, ins, out_labels, batch_size, epochs, verbose, callbacks, val_f, val_ins, shuffle, callback_metrics, initial_epoch, steps_per_epoch, validation_steps)\u001b[0m\n\u001b[0;32m    197\u001b[0m                     \u001b[0mins_batch\u001b[0m\u001b[1;33m[\u001b[0m\u001b[0mi\u001b[0m\u001b[1;33m]\u001b[0m \u001b[1;33m=\u001b[0m \u001b[0mins_batch\u001b[0m\u001b[1;33m[\u001b[0m\u001b[0mi\u001b[0m\u001b[1;33m]\u001b[0m\u001b[1;33m.\u001b[0m\u001b[0mtoarray\u001b[0m\u001b[1;33m(\u001b[0m\u001b[1;33m)\u001b[0m\u001b[1;33m\u001b[0m\u001b[0m\n\u001b[0;32m    198\u001b[0m \u001b[1;33m\u001b[0m\u001b[0m\n\u001b[1;32m--> 199\u001b[1;33m                 \u001b[0mouts\u001b[0m \u001b[1;33m=\u001b[0m \u001b[0mf\u001b[0m\u001b[1;33m(\u001b[0m\u001b[0mins_batch\u001b[0m\u001b[1;33m)\u001b[0m\u001b[1;33m\u001b[0m\u001b[0m\n\u001b[0m\u001b[0;32m    200\u001b[0m                 \u001b[0mouts\u001b[0m \u001b[1;33m=\u001b[0m \u001b[0mto_list\u001b[0m\u001b[1;33m(\u001b[0m\u001b[0mouts\u001b[0m\u001b[1;33m)\u001b[0m\u001b[1;33m\u001b[0m\u001b[0m\n\u001b[0;32m    201\u001b[0m                 \u001b[1;32mfor\u001b[0m \u001b[0ml\u001b[0m\u001b[1;33m,\u001b[0m \u001b[0mo\u001b[0m \u001b[1;32min\u001b[0m \u001b[0mzip\u001b[0m\u001b[1;33m(\u001b[0m\u001b[0mout_labels\u001b[0m\u001b[1;33m,\u001b[0m \u001b[0mouts\u001b[0m\u001b[1;33m)\u001b[0m\u001b[1;33m:\u001b[0m\u001b[1;33m\u001b[0m\u001b[0m\n",
      "\u001b[1;32mc:\\program files\\python36\\lib\\site-packages\\keras\\backend\\tensorflow_backend.py\u001b[0m in \u001b[0;36m__call__\u001b[1;34m(self, inputs)\u001b[0m\n\u001b[0;32m   2713\u001b[0m                 \u001b[1;32mreturn\u001b[0m \u001b[0mself\u001b[0m\u001b[1;33m.\u001b[0m\u001b[0m_legacy_call\u001b[0m\u001b[1;33m(\u001b[0m\u001b[0minputs\u001b[0m\u001b[1;33m)\u001b[0m\u001b[1;33m\u001b[0m\u001b[0m\n\u001b[0;32m   2714\u001b[0m \u001b[1;33m\u001b[0m\u001b[0m\n\u001b[1;32m-> 2715\u001b[1;33m             \u001b[1;32mreturn\u001b[0m \u001b[0mself\u001b[0m\u001b[1;33m.\u001b[0m\u001b[0m_call\u001b[0m\u001b[1;33m(\u001b[0m\u001b[0minputs\u001b[0m\u001b[1;33m)\u001b[0m\u001b[1;33m\u001b[0m\u001b[0m\n\u001b[0m\u001b[0;32m   2716\u001b[0m         \u001b[1;32melse\u001b[0m\u001b[1;33m:\u001b[0m\u001b[1;33m\u001b[0m\u001b[0m\n\u001b[0;32m   2717\u001b[0m             \u001b[1;32mif\u001b[0m \u001b[0mpy_any\u001b[0m\u001b[1;33m(\u001b[0m\u001b[0mis_tensor\u001b[0m\u001b[1;33m(\u001b[0m\u001b[0mx\u001b[0m\u001b[1;33m)\u001b[0m \u001b[1;32mfor\u001b[0m \u001b[0mx\u001b[0m \u001b[1;32min\u001b[0m \u001b[0minputs\u001b[0m\u001b[1;33m)\u001b[0m\u001b[1;33m:\u001b[0m\u001b[1;33m\u001b[0m\u001b[0m\n",
      "\u001b[1;32mc:\\program files\\python36\\lib\\site-packages\\keras\\backend\\tensorflow_backend.py\u001b[0m in \u001b[0;36m_call\u001b[1;34m(self, inputs)\u001b[0m\n\u001b[0;32m   2673\u001b[0m             \u001b[0mfetched\u001b[0m \u001b[1;33m=\u001b[0m \u001b[0mself\u001b[0m\u001b[1;33m.\u001b[0m\u001b[0m_callable_fn\u001b[0m\u001b[1;33m(\u001b[0m\u001b[1;33m*\u001b[0m\u001b[0marray_vals\u001b[0m\u001b[1;33m,\u001b[0m \u001b[0mrun_metadata\u001b[0m\u001b[1;33m=\u001b[0m\u001b[0mself\u001b[0m\u001b[1;33m.\u001b[0m\u001b[0mrun_metadata\u001b[0m\u001b[1;33m)\u001b[0m\u001b[1;33m\u001b[0m\u001b[0m\n\u001b[0;32m   2674\u001b[0m         \u001b[1;32melse\u001b[0m\u001b[1;33m:\u001b[0m\u001b[1;33m\u001b[0m\u001b[0m\n\u001b[1;32m-> 2675\u001b[1;33m             \u001b[0mfetched\u001b[0m \u001b[1;33m=\u001b[0m \u001b[0mself\u001b[0m\u001b[1;33m.\u001b[0m\u001b[0m_callable_fn\u001b[0m\u001b[1;33m(\u001b[0m\u001b[1;33m*\u001b[0m\u001b[0marray_vals\u001b[0m\u001b[1;33m)\u001b[0m\u001b[1;33m\u001b[0m\u001b[0m\n\u001b[0m\u001b[0;32m   2676\u001b[0m         \u001b[1;32mreturn\u001b[0m \u001b[0mfetched\u001b[0m\u001b[1;33m[\u001b[0m\u001b[1;33m:\u001b[0m\u001b[0mlen\u001b[0m\u001b[1;33m(\u001b[0m\u001b[0mself\u001b[0m\u001b[1;33m.\u001b[0m\u001b[0moutputs\u001b[0m\u001b[1;33m)\u001b[0m\u001b[1;33m]\u001b[0m\u001b[1;33m\u001b[0m\u001b[0m\n\u001b[0;32m   2677\u001b[0m \u001b[1;33m\u001b[0m\u001b[0m\n",
      "\u001b[1;32mc:\\program files\\python36\\lib\\site-packages\\tensorflow\\python\\client\\session.py\u001b[0m in \u001b[0;36m__call__\u001b[1;34m(self, *args, **kwargs)\u001b[0m\n\u001b[0;32m   1437\u001b[0m           ret = tf_session.TF_SessionRunCallable(\n\u001b[0;32m   1438\u001b[0m               \u001b[0mself\u001b[0m\u001b[1;33m.\u001b[0m\u001b[0m_session\u001b[0m\u001b[1;33m.\u001b[0m\u001b[0m_session\u001b[0m\u001b[1;33m,\u001b[0m \u001b[0mself\u001b[0m\u001b[1;33m.\u001b[0m\u001b[0m_handle\u001b[0m\u001b[1;33m,\u001b[0m \u001b[0margs\u001b[0m\u001b[1;33m,\u001b[0m \u001b[0mstatus\u001b[0m\u001b[1;33m,\u001b[0m\u001b[1;33m\u001b[0m\u001b[0m\n\u001b[1;32m-> 1439\u001b[1;33m               run_metadata_ptr)\n\u001b[0m\u001b[0;32m   1440\u001b[0m         \u001b[1;32mif\u001b[0m \u001b[0mrun_metadata\u001b[0m\u001b[1;33m:\u001b[0m\u001b[1;33m\u001b[0m\u001b[0m\n\u001b[0;32m   1441\u001b[0m           \u001b[0mproto_data\u001b[0m \u001b[1;33m=\u001b[0m \u001b[0mtf_session\u001b[0m\u001b[1;33m.\u001b[0m\u001b[0mTF_GetBuffer\u001b[0m\u001b[1;33m(\u001b[0m\u001b[0mrun_metadata_ptr\u001b[0m\u001b[1;33m)\u001b[0m\u001b[1;33m\u001b[0m\u001b[0m\n",
      "\u001b[1;31mKeyboardInterrupt\u001b[0m: "
     ]
    }
   ],
   "source": [
    "model.fit(encoder_data, decoder_data, batch_size=batch_size, epochs=epochs, validation_split=0.1)"
   ]
  },
  {
   "cell_type": "code",
   "execution_count": 27,
   "metadata": {},
   "outputs": [
    {
     "name": "stdout",
     "output_type": "stream",
     "text": [
      "Source:  \t 26 Give thanks to the God of the heavens , For his loyal love endures forever . \n",
      "\n",
      "Output:  26 Kele ne Ce e e\n",
      "Source:  \t 11 And they began to question him , saying Why do the scribes say that E li jah must come first ? \n",
      "\n",
      "Output:  11 Ha wee ji\n",
      "Source:  \t language \n",
      "\n",
      "Output:  agu\n",
      "Source:  \t shut one s mouth \n",
      "\n",
      "Output:  gp\n",
      "Source:  \t dig ground \n",
      "\n",
      "Output:  ge\n",
      "Source:  \t 11 By Hu shim he became father to A bi tub and El pa al . \n",
      "\n",
      "Output:  11 Iasasa a\n",
      "Source:  \t intestinal worm \n",
      "\n",
      "Output:  aki\n",
      "Source:  \t 22 Then King Je hoi a kim sent El na than the son of Ach bor and other men with him to Egypt . \n",
      "\n",
      "Output:  22 Eo Ee\n",
      "Source:  \t 14 Ne than el the fourth , Rad dai the fifth , \n",
      "\n",
      "Output:  14 Naaa  b\n",
      "Source:  \t 22 and whoever swears by heaven is swearing by the throne of God and by the One sitting on it . \n",
      "\n",
      "Output:  22 onye na a\n",
      "Source:  \t Afor and Nkwo \n",
      "\n",
      "Output:  agi\n",
      "Source:  \t she herself \n",
      "\n",
      "Output:  ya  a\n",
      "Source:  \t commit abortion \n",
      "\n",
      "Output:  ab\n",
      "Source:  \t be disobedient \n",
      "\n",
      "Output:  da   a\n",
      "Source:  \t place where yams are stacked and stored \n",
      "\n",
      "Output:  awa o\n",
      "Source:  \t clear bush of trees \n",
      "\n",
      "Output:  kpa a\n",
      "Source:  \t 8 But God recommends his own love to us in that , while we were yet sinners , Christ died for us . \n",
      "\n",
      "Output:  8 Ma Cn neye n\n",
      "Source:  \t be proud \n",
      "\n",
      "Output:  gi\n",
      "Source:  \t make \n",
      "\n",
      "Output:  ka\n",
      "Source:  \t 23 and Jesus was walking in the temple in the colonnade of Sol o mon . \n",
      "\n",
      "Output:  23 Jizos na a i\n",
      "Source:  \t 43 Moses and Aaron went before the tent of meeting , \n",
      "\n",
      "Output:  43 Mozis we\n",
      "Source:  \t 12 When he snatches something , who can resist him ? Who can say to him , What are you doing ? \n",
      "\n",
      "Output:  12 Oibeer\n",
      "Source:  \t 22 all the kings of Tyre , all the kings of Si don , and the kings of the island in the sea \n",
      "\n",
      "Output:  22 na ede e e e e\n",
      "Source:  \t scrape \n",
      "\n",
      "Output:  kpa\n",
      "Source:  \t 36 I gal the son of Nathan of Zo bah , Ba ni the Gad ite , \n",
      "\n",
      "Output:  36 Aiaaa na\n",
      "Source:  \t sit with the lower limbs twisted and drawn up \n",
      "\n",
      "Output:  gw\n",
      "Source:  \t 26 They glide by like reed boats , Like eagles that swoop down on their prey . \n",
      "\n",
      "Output:  26 Ha na\n",
      "Source:  \t while \n",
      "\n",
      "Output:  ah\n",
      "Source:  \t hold annual new yam festival \n",
      "\n",
      "Output:  aga\n",
      "Source:  \t brush \n",
      "\n",
      "Output:  kk\n",
      "Source:  \t 22 for you well know in your heart that many times you yourself have called down evil on others . \n",
      "\n",
      "Output:  22 n ihi na o b\n",
      "Source:  \t tobacco \n",
      "\n",
      "Output:  aku\n",
      "Source:  \t dispute \n",
      "\n",
      "Output:  gu\n",
      "Source:  \t 2 And look ! a man who had dropsy was in front of him . \n",
      "\n",
      "Output:  2 Ma  ! e\n",
      "Source:  \t pack together \n",
      "\n",
      "Output:  kpako\n",
      "Source:  \t abada cloth \n",
      "\n",
      "Output:  aa\n",
      "Source:  \t Are you sure Chioma will come today ? Yes \n",
      "\n",
      "Output:  I d  a a\n",
      "Source:  \t electric catfish \n",
      "\n",
      "Output:  aku\n",
      "Source:  \t troublesome world \n",
      "\n",
      "Output:  agi  a\n",
      "Source:  \t 4 His spirit goes out , he returns to the ground On that very day his thoughts perish . \n",
      "\n",
      "Output:  4 O e   o\n",
      "Source:  \t 14 They now sent word to Jez e bel , saying Na both has been stoned to death . \n",
      "\n",
      "Output:  14 Ha wee ga e\n",
      "Source:  \t 6 He spread out the earth over the waters , For his loyal love endures forever . \n",
      "\n",
      "Output:  6 Kele na e na e\n",
      "Source:  \t mark \n",
      "\n",
      "Output:  au\n",
      "Source:  \t 38 Joel the brother of Nathan , Mib har the son of Hag ri , \n",
      "\n",
      "Output:  38 Joaa nwa\n",
      "Source:  \t the younger generation \n",
      "\n",
      "Output:  og\n",
      "Source:  \t swamp \n",
      "\n",
      "Output:  ga\n",
      "Source:  \t 38 The sons of Je ther were Je phun neh , Pis pah , and A ra . \n",
      "\n",
      "Output:  38 Umu Jera\n",
      "Source:  \t jealousy \n",
      "\n",
      "Output:  anu\n",
      "Source:  \t 18 Why do you inspect him every morning And test him every moment ? \n",
      "\n",
      "Output:  18 Gini me a\n",
      "Source:  \t sign of affirmation \n",
      "\n",
      "Output:  agu\n"
     ]
    }
   ],
   "source": [
    "for i in range(750, 800):\n",
    "    input_seq = encoder_data[i:i+1]\n",
    "    decoded = model.predict(input_seq)\n",
    "    pred = np.argmax(decoded, axis=-1)\n",
    "    decoded_string = \"\"\n",
    "    for j in range(timesteps):\n",
    "        decoded_string += igbo_inv_vocab[pred[0, j]]\n",
    "    decoded_string = decoded_string.strip()\n",
    "    print(\"Source: \", english_texts[i])\n",
    "    print(\"Output: \", decoded_string)"
   ]
  },
  {
   "cell_type": "code",
   "execution_count": null,
   "metadata": {},
   "outputs": [],
   "source": []
  }
 ],
 "metadata": {
  "kernelspec": {
   "display_name": "Python 3",
   "language": "python",
   "name": "python3"
  },
  "language_info": {
   "codemirror_mode": {
    "name": "ipython",
    "version": 3
   },
   "file_extension": ".py",
   "mimetype": "text/x-python",
   "name": "python",
   "nbconvert_exporter": "python",
   "pygments_lexer": "ipython3",
   "version": "3.6.5"
  }
 },
 "nbformat": 4,
 "nbformat_minor": 2
}
